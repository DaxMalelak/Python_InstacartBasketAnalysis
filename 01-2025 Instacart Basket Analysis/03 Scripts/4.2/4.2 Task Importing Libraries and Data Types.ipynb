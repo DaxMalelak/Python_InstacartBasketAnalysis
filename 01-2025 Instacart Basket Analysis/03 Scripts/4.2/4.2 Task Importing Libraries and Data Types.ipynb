{
 "cells": [
  {
   "cell_type": "markdown",
   "id": "2ada9fd3-d9a3-4e0b-a471-03df3e960220",
   "metadata": {},
   "source": [
    "# Task 4.2"
   ]
  },
  {
   "cell_type": "markdown",
   "id": "681a3f45-3c17-4e8c-8076-7b17dd2d6006",
   "metadata": {},
   "source": [
    "# Importing Libraries"
   ]
  },
  {
   "cell_type": "code",
   "execution_count": 8,
   "id": "86c5ecfd-91f2-41a8-8cc0-d695b22cc65b",
   "metadata": {},
   "outputs": [],
   "source": [
    "# Import libraries\n",
    "import pandas as pd\n",
    "import numpy as np\n",
    "import os"
   ]
  },
  {
   "cell_type": "markdown",
   "id": "c6a1c96c-7161-4169-9f23-95d39c18e952",
   "metadata": {},
   "source": [
    "## Python Data Types"
   ]
  },
  {
   "cell_type": "code",
   "execution_count": 11,
   "id": "469e689f-29da-4ada-b142-2965acab6273",
   "metadata": {},
   "outputs": [],
   "source": [
    "# Integer\n",
    "x = 25\n",
    "y = 50"
   ]
  },
  {
   "cell_type": "code",
   "execution_count": 15,
   "id": "6f9f99fa-4f10-4d28-b298-8d55e6a99430",
   "metadata": {},
   "outputs": [
    {
     "data": {
      "text/plain": [
       "100"
      ]
     },
     "execution_count": 15,
     "metadata": {},
     "output_type": "execute_result"
    }
   ],
   "source": [
    "x + x + y"
   ]
  },
  {
   "cell_type": "code",
   "execution_count": 17,
   "id": "5996ff5e-98c0-4ccf-b2af-408d3edb5e70",
   "metadata": {},
   "outputs": [],
   "source": [
    "a = 200\n",
    "b = 75"
   ]
  },
  {
   "cell_type": "code",
   "execution_count": 19,
   "id": "30bce319-21fc-4c80-aecc-dafaad0a1441",
   "metadata": {},
   "outputs": [
    {
     "data": {
      "text/plain": [
       "100"
      ]
     },
     "execution_count": 19,
     "metadata": {},
     "output_type": "execute_result"
    }
   ],
   "source": [
    "a - b - x"
   ]
  },
  {
   "cell_type": "code",
   "execution_count": 21,
   "id": "75335b97-4d49-4b89-a1d9-5bb87007c3d5",
   "metadata": {},
   "outputs": [
    {
     "data": {
      "text/plain": [
       "100"
      ]
     },
     "execution_count": 21,
     "metadata": {},
     "output_type": "execute_result"
    }
   ],
   "source": [
    "y + b - x"
   ]
  },
  {
   "cell_type": "code",
   "execution_count": 23,
   "id": "7653a135-0eb3-452a-9e19-e99ff31e96f7",
   "metadata": {},
   "outputs": [],
   "source": [
    "# Floating Point\n",
    "q = 7.66\n",
    "z = 3.24"
   ]
  },
  {
   "cell_type": "code",
   "execution_count": 25,
   "id": "82db6ea0-7131-4c1c-9736-2203f6415552",
   "metadata": {},
   "outputs": [
    {
     "data": {
      "text/plain": [
       "2.3641975308641974"
      ]
     },
     "execution_count": 25,
     "metadata": {},
     "output_type": "execute_result"
    }
   ],
   "source": [
    "q/z"
   ]
  },
  {
   "cell_type": "code",
   "execution_count": 31,
   "id": "8b5fb71f-5a17-4222-b7de-996c4b55ea99",
   "metadata": {},
   "outputs": [],
   "source": [
    "# Strings\n",
    "l = \"You'll Never \"\n",
    "f = \"Walk Alone\""
   ]
  },
  {
   "cell_type": "code",
   "execution_count": 33,
   "id": "3e19e0a2-5d30-475e-bdfd-aca4479541f7",
   "metadata": {},
   "outputs": [
    {
     "data": {
      "text/plain": [
       "\"You'll Never Walk Alone\""
      ]
     },
     "execution_count": 33,
     "metadata": {},
     "output_type": "execute_result"
    }
   ],
   "source": [
    "l + f"
   ]
  },
  {
   "cell_type": "code",
   "execution_count": 41,
   "id": "a8d4e9da-4186-48fd-bfb3-57656dc213ae",
   "metadata": {},
   "outputs": [],
   "source": [
    "o = \"Sa\"\n",
    "p = \"lah\""
   ]
  },
  {
   "cell_type": "code",
   "execution_count": 43,
   "id": "e79795d4-82ad-41f2-85cb-afb59af4fce0",
   "metadata": {},
   "outputs": [
    {
     "data": {
      "text/plain": [
       "'Salah'"
      ]
     },
     "execution_count": 43,
     "metadata": {},
     "output_type": "execute_result"
    }
   ],
   "source": [
    "o + p"
   ]
  },
  {
   "cell_type": "code",
   "execution_count": 47,
   "id": "c8f70279-c4fd-4d97-add1-9d7995a2a25f",
   "metadata": {},
   "outputs": [],
   "source": [
    "u = \"Mohamed \""
   ]
  },
  {
   "cell_type": "code",
   "execution_count": 53,
   "id": "44369ade-e398-41c3-94dc-7fdfb8cc7977",
   "metadata": {},
   "outputs": [
    {
     "data": {
      "text/plain": [
       "\"Mohamed Salah, You'll Never Walk Alone\""
      ]
     },
     "execution_count": 53,
     "metadata": {},
     "output_type": "execute_result"
    }
   ],
   "source": [
    "u + o + p + \", \" + l + f"
   ]
  },
  {
   "cell_type": "code",
   "execution_count": null,
   "id": "d4576f5e-2493-4d14-8c3a-06192ff0e862",
   "metadata": {},
   "outputs": [],
   "source": []
  }
 ],
 "metadata": {
  "kernelspec": {
   "display_name": "Python [conda env:base] *",
   "language": "python",
   "name": "conda-base-py"
  },
  "language_info": {
   "codemirror_mode": {
    "name": "ipython",
    "version": 3
   },
   "file_extension": ".py",
   "mimetype": "text/x-python",
   "name": "python",
   "nbconvert_exporter": "python",
   "pygments_lexer": "ipython3",
   "version": "3.12.7"
  }
 },
 "nbformat": 4,
 "nbformat_minor": 5
}
