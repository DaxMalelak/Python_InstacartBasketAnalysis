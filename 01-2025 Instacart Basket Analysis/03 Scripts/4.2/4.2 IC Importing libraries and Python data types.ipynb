{
 "cells": [
  {
   "cell_type": "markdown",
   "id": "5ad898b5-df1b-4b34-889b-b3142ed21b50",
   "metadata": {},
   "source": [
    "# 01. Importing libraries"
   ]
  },
  {
   "cell_type": "code",
   "execution_count": 8,
   "id": "b22fbf6b-c63e-4af7-ad04-4baf54483047",
   "metadata": {},
   "outputs": [],
   "source": [
    "# Import libraries\n",
    "import pandas as pd\n",
    "import numpy as np\n",
    "import os"
   ]
  },
  {
   "cell_type": "markdown",
   "id": "2b76b4c8-b99c-47de-bbe8-78db066dfa02",
   "metadata": {},
   "source": [
    "## Integers"
   ]
  },
  {
   "cell_type": "code",
   "execution_count": 10,
   "id": "cce2a96d-a46c-4eed-8597-989b7c623205",
   "metadata": {},
   "outputs": [],
   "source": [
    "x = 2"
   ]
  },
  {
   "cell_type": "code",
   "execution_count": 12,
   "id": "5e7edf86-5279-4944-9dbc-01eac26d67c2",
   "metadata": {},
   "outputs": [
    {
     "data": {
      "text/plain": [
       "2"
      ]
     },
     "execution_count": 12,
     "metadata": {},
     "output_type": "execute_result"
    }
   ],
   "source": [
    "x"
   ]
  },
  {
   "cell_type": "code",
   "execution_count": 14,
   "id": "860047fd-77a9-4040-8cf7-6884a199adfb",
   "metadata": {},
   "outputs": [
    {
     "name": "stdout",
     "output_type": "stream",
     "text": [
      "2\n"
     ]
    }
   ],
   "source": [
    "print(x)"
   ]
  },
  {
   "cell_type": "code",
   "execution_count": 16,
   "id": "2abf8e40-1e66-4942-9cc5-5ed9cf9868c3",
   "metadata": {},
   "outputs": [
    {
     "data": {
      "text/plain": [
       "int"
      ]
     },
     "execution_count": 16,
     "metadata": {},
     "output_type": "execute_result"
    }
   ],
   "source": [
    "type(x)"
   ]
  },
  {
   "cell_type": "markdown",
   "id": "e59c4aca-8a31-4e50-b1c6-aa17627dd010",
   "metadata": {},
   "source": [
    "## Floating Point Numbers"
   ]
  },
  {
   "cell_type": "code",
   "execution_count": 22,
   "id": "d5324da8-2d05-48ef-82e5-2396042b6ba3",
   "metadata": {},
   "outputs": [],
   "source": [
    "y = 5.678"
   ]
  },
  {
   "cell_type": "code",
   "execution_count": 24,
   "id": "8cccb5f3-b4e7-462d-8fb6-a38b65684b12",
   "metadata": {},
   "outputs": [
    {
     "data": {
      "text/plain": [
       "float"
      ]
     },
     "execution_count": 24,
     "metadata": {},
     "output_type": "execute_result"
    }
   ],
   "source": [
    "type(y)"
   ]
  },
  {
   "cell_type": "markdown",
   "id": "7e3af892-b9ea-41e0-9ac8-5828e52bcd8a",
   "metadata": {},
   "source": [
    "## Strings"
   ]
  },
  {
   "cell_type": "code",
   "execution_count": 27,
   "id": "2a0fde7a-1df3-4d07-9ace-d83445cec174",
   "metadata": {},
   "outputs": [],
   "source": [
    "z = 'Brazil'"
   ]
  },
  {
   "cell_type": "code",
   "execution_count": 29,
   "id": "5660d42e-a2f5-4096-99db-556be14ab133",
   "metadata": {},
   "outputs": [
    {
     "data": {
      "text/plain": [
       "str"
      ]
     },
     "execution_count": 29,
     "metadata": {},
     "output_type": "execute_result"
    }
   ],
   "source": [
    "type(z)"
   ]
  },
  {
   "cell_type": "markdown",
   "id": "d01393ac-6161-41c0-9b01-159779dd2e66",
   "metadata": {},
   "source": [
    "## Boolean"
   ]
  },
  {
   "cell_type": "code",
   "execution_count": 34,
   "id": "5fcb3240-de72-40bf-a8e6-7109d63327db",
   "metadata": {},
   "outputs": [
    {
     "data": {
      "text/plain": [
       "bool"
      ]
     },
     "execution_count": 34,
     "metadata": {},
     "output_type": "execute_result"
    }
   ],
   "source": [
    "type(True)"
   ]
  },
  {
   "cell_type": "code",
   "execution_count": 36,
   "id": "481bcb26-88fe-4016-aad4-924b1f9fd548",
   "metadata": {},
   "outputs": [
    {
     "data": {
      "text/plain": [
       "bool"
      ]
     },
     "execution_count": 36,
     "metadata": {},
     "output_type": "execute_result"
    }
   ],
   "source": [
    "type(False)"
   ]
  },
  {
   "cell_type": "markdown",
   "id": "6ac48f42-a86d-4464-8f4b-23ca2b77a36d",
   "metadata": {},
   "source": [
    "## Procedures with Data Types"
   ]
  },
  {
   "cell_type": "code",
   "execution_count": 39,
   "id": "d955b9b5-281a-498a-862f-0a420add2b47",
   "metadata": {},
   "outputs": [
    {
     "data": {
      "text/plain": [
       "6"
      ]
     },
     "execution_count": 39,
     "metadata": {},
     "output_type": "execute_result"
    }
   ],
   "source": [
    "x + 4"
   ]
  },
  {
   "cell_type": "code",
   "execution_count": 41,
   "id": "b2491641-b0a8-4d34-bbf6-951ee86b10ec",
   "metadata": {},
   "outputs": [
    {
     "data": {
      "text/plain": [
       "7.678"
      ]
     },
     "execution_count": 41,
     "metadata": {},
     "output_type": "execute_result"
    }
   ],
   "source": [
    "x + y"
   ]
  },
  {
   "cell_type": "code",
   "execution_count": 43,
   "id": "b57565bb-ff9c-4d98-b9d8-461e81d73f27",
   "metadata": {},
   "outputs": [],
   "source": [
    "x = x + 4"
   ]
  },
  {
   "cell_type": "code",
   "execution_count": 45,
   "id": "4ad2a0a4-5b58-4dd0-baf0-c41a0e091149",
   "metadata": {},
   "outputs": [
    {
     "name": "stdout",
     "output_type": "stream",
     "text": [
      "6\n"
     ]
    }
   ],
   "source": [
    "print (x)"
   ]
  },
  {
   "cell_type": "code",
   "execution_count": 47,
   "id": "8be610d1-47fd-40d8-a400-47e482c6b43e",
   "metadata": {},
   "outputs": [],
   "source": [
    "a = 'Hello'"
   ]
  },
  {
   "cell_type": "code",
   "execution_count": 49,
   "id": "80d983a4-c2a7-4d01-b64a-8636cb004e66",
   "metadata": {},
   "outputs": [],
   "source": [
    "b = 'Marley'"
   ]
  },
  {
   "cell_type": "code",
   "execution_count": 51,
   "id": "10618e3a-41d7-4846-98fe-e562a4553605",
   "metadata": {},
   "outputs": [
    {
     "data": {
      "text/plain": [
       "'HelloMarley'"
      ]
     },
     "execution_count": 51,
     "metadata": {},
     "output_type": "execute_result"
    }
   ],
   "source": [
    "a + b"
   ]
  },
  {
   "cell_type": "code",
   "execution_count": 53,
   "id": "18fb1ee4-caef-4ddf-a27c-b217201dd49f",
   "metadata": {},
   "outputs": [],
   "source": [
    "n = 'tomato'"
   ]
  },
  {
   "cell_type": "code",
   "execution_count": 57,
   "id": "2313158d-9214-4201-a1c8-0f8d222c1f07",
   "metadata": {},
   "outputs": [
    {
     "data": {
      "text/plain": [
       "'tomatotomatotomatotomatotomatotomatotomato'"
      ]
     },
     "execution_count": 57,
     "metadata": {},
     "output_type": "execute_result"
    }
   ],
   "source": [
    "n * 7"
   ]
  },
  {
   "cell_type": "code",
   "execution_count": 59,
   "id": "9d28f11f-3cac-42cc-a0dd-0607aa4b7c06",
   "metadata": {},
   "outputs": [
    {
     "data": {
      "text/plain": [
       "False"
      ]
     },
     "execution_count": 59,
     "metadata": {},
     "output_type": "execute_result"
    }
   ],
   "source": [
    "x == y"
   ]
  },
  {
   "cell_type": "code",
   "execution_count": 61,
   "id": "f82fb595-cc2f-4223-8cab-c5f452fe7d3a",
   "metadata": {},
   "outputs": [
    {
     "data": {
      "text/plain": [
       "bool"
      ]
     },
     "execution_count": 61,
     "metadata": {},
     "output_type": "execute_result"
    }
   ],
   "source": [
    "type(x==y)"
   ]
  },
  {
   "cell_type": "code",
   "execution_count": null,
   "id": "517b7ef9-2043-40b2-abde-f4f475d7dbfc",
   "metadata": {},
   "outputs": [],
   "source": []
  }
 ],
 "metadata": {
  "kernelspec": {
   "display_name": "Python [conda env:base] *",
   "language": "python",
   "name": "conda-base-py"
  },
  "language_info": {
   "codemirror_mode": {
    "name": "ipython",
    "version": 3
   },
   "file_extension": ".py",
   "mimetype": "text/x-python",
   "name": "python",
   "nbconvert_exporter": "python",
   "pygments_lexer": "ipython3",
   "version": "3.12.7"
  }
 },
 "nbformat": 4,
 "nbformat_minor": 5
}
