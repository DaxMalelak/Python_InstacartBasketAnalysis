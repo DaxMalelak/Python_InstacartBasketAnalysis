{
 "cells": [
  {
   "cell_type": "markdown",
   "id": "9f9a4ffc-e34c-420e-beef-a9fda88db364",
   "metadata": {},
   "source": [
    "# Task 4.9 Part 1: Incorporating Customer Data Set"
   ]
  },
  {
   "cell_type": "markdown",
   "id": "38051e22-fa4a-4504-b129-05825f01c733",
   "metadata": {},
   "source": [
    "## Content of Workbook:\n",
    "## Step 3: Import Libraries\n",
    "## Step 4: Data Wrangling\n",
    "## Step 5: Data Consistency Checks\n",
    "## Step 6: Combining customer data with rest of prepared data\n",
    "## Step 8: Export new dataframe"
   ]
  },
  {
   "cell_type": "markdown",
   "id": "364ddf0f-6b3a-42ac-aa92-996aaf1de287",
   "metadata": {},
   "source": [
    "### Step 3: Import Libraries"
   ]
  },
  {
   "cell_type": "code",
   "execution_count": 23,
   "id": "9e4fd901-d950-425a-81b8-a082645c1c18",
   "metadata": {},
   "outputs": [],
   "source": [
    "# Import libraries\n",
    "import pandas as pd\n",
    "import numpy as np\n",
    "import os"
   ]
  },
  {
   "cell_type": "code",
   "execution_count": 24,
   "id": "47a0bf39-0471-4519-b2d2-a4a76a976911",
   "metadata": {},
   "outputs": [],
   "source": [
    "# Import customer data set\n",
    "path = r'C:\\Users\\daxma\\OneDrive\\Desktop\\Data Analytics\\Data Immersion\\Achievement 4\\01-2025 Instacart Basket Analysis'\n",
    "df_cust = pd.read_csv(os.path.join(path, '02 Data', 'Original Data', 'customers.csv'), index_col = False)"
   ]
  },
  {
   "cell_type": "code",
   "execution_count": 25,
   "id": "55b92c06-bc09-4b5f-80b9-c1ddb37b2a28",
   "metadata": {},
   "outputs": [
    {
     "data": {
      "text/html": [
       "<div>\n",
       "<style scoped>\n",
       "    .dataframe tbody tr th:only-of-type {\n",
       "        vertical-align: middle;\n",
       "    }\n",
       "\n",
       "    .dataframe tbody tr th {\n",
       "        vertical-align: top;\n",
       "    }\n",
       "\n",
       "    .dataframe thead th {\n",
       "        text-align: right;\n",
       "    }\n",
       "</style>\n",
       "<table border=\"1\" class=\"dataframe\">\n",
       "  <thead>\n",
       "    <tr style=\"text-align: right;\">\n",
       "      <th></th>\n",
       "      <th>user_id</th>\n",
       "      <th>First Name</th>\n",
       "      <th>Surnam</th>\n",
       "      <th>Gender</th>\n",
       "      <th>STATE</th>\n",
       "      <th>Age</th>\n",
       "      <th>date_joined</th>\n",
       "      <th>n_dependants</th>\n",
       "      <th>fam_status</th>\n",
       "      <th>income</th>\n",
       "    </tr>\n",
       "  </thead>\n",
       "  <tbody>\n",
       "    <tr>\n",
       "      <th>0</th>\n",
       "      <td>26711</td>\n",
       "      <td>Deborah</td>\n",
       "      <td>Esquivel</td>\n",
       "      <td>Female</td>\n",
       "      <td>Missouri</td>\n",
       "      <td>48</td>\n",
       "      <td>1/1/2017</td>\n",
       "      <td>3</td>\n",
       "      <td>married</td>\n",
       "      <td>165665</td>\n",
       "    </tr>\n",
       "    <tr>\n",
       "      <th>1</th>\n",
       "      <td>33890</td>\n",
       "      <td>Patricia</td>\n",
       "      <td>Hart</td>\n",
       "      <td>Female</td>\n",
       "      <td>New Mexico</td>\n",
       "      <td>36</td>\n",
       "      <td>1/1/2017</td>\n",
       "      <td>0</td>\n",
       "      <td>single</td>\n",
       "      <td>59285</td>\n",
       "    </tr>\n",
       "    <tr>\n",
       "      <th>2</th>\n",
       "      <td>65803</td>\n",
       "      <td>Kenneth</td>\n",
       "      <td>Farley</td>\n",
       "      <td>Male</td>\n",
       "      <td>Idaho</td>\n",
       "      <td>35</td>\n",
       "      <td>1/1/2017</td>\n",
       "      <td>2</td>\n",
       "      <td>married</td>\n",
       "      <td>99568</td>\n",
       "    </tr>\n",
       "    <tr>\n",
       "      <th>3</th>\n",
       "      <td>125935</td>\n",
       "      <td>Michelle</td>\n",
       "      <td>Hicks</td>\n",
       "      <td>Female</td>\n",
       "      <td>Iowa</td>\n",
       "      <td>40</td>\n",
       "      <td>1/1/2017</td>\n",
       "      <td>0</td>\n",
       "      <td>single</td>\n",
       "      <td>42049</td>\n",
       "    </tr>\n",
       "    <tr>\n",
       "      <th>4</th>\n",
       "      <td>130797</td>\n",
       "      <td>Ann</td>\n",
       "      <td>Gilmore</td>\n",
       "      <td>Female</td>\n",
       "      <td>Maryland</td>\n",
       "      <td>26</td>\n",
       "      <td>1/1/2017</td>\n",
       "      <td>1</td>\n",
       "      <td>married</td>\n",
       "      <td>40374</td>\n",
       "    </tr>\n",
       "    <tr>\n",
       "      <th>5</th>\n",
       "      <td>133128</td>\n",
       "      <td>Cynthia</td>\n",
       "      <td>Noble</td>\n",
       "      <td>Female</td>\n",
       "      <td>Kentucky</td>\n",
       "      <td>43</td>\n",
       "      <td>1/1/2017</td>\n",
       "      <td>2</td>\n",
       "      <td>married</td>\n",
       "      <td>49643</td>\n",
       "    </tr>\n",
       "    <tr>\n",
       "      <th>6</th>\n",
       "      <td>152052</td>\n",
       "      <td>Chris</td>\n",
       "      <td>Walton</td>\n",
       "      <td>Male</td>\n",
       "      <td>Montana</td>\n",
       "      <td>20</td>\n",
       "      <td>1/1/2017</td>\n",
       "      <td>0</td>\n",
       "      <td>single</td>\n",
       "      <td>61746</td>\n",
       "    </tr>\n",
       "    <tr>\n",
       "      <th>7</th>\n",
       "      <td>168851</td>\n",
       "      <td>Joseph</td>\n",
       "      <td>Hickman</td>\n",
       "      <td>Male</td>\n",
       "      <td>South Carolina</td>\n",
       "      <td>30</td>\n",
       "      <td>1/1/2017</td>\n",
       "      <td>0</td>\n",
       "      <td>single</td>\n",
       "      <td>63712</td>\n",
       "    </tr>\n",
       "    <tr>\n",
       "      <th>8</th>\n",
       "      <td>69965</td>\n",
       "      <td>Jeremy</td>\n",
       "      <td>Vang</td>\n",
       "      <td>Male</td>\n",
       "      <td>Texas</td>\n",
       "      <td>47</td>\n",
       "      <td>1/1/2017</td>\n",
       "      <td>1</td>\n",
       "      <td>married</td>\n",
       "      <td>162432</td>\n",
       "    </tr>\n",
       "    <tr>\n",
       "      <th>9</th>\n",
       "      <td>82820</td>\n",
       "      <td>Shawn</td>\n",
       "      <td>Chung</td>\n",
       "      <td>Male</td>\n",
       "      <td>Virginia</td>\n",
       "      <td>26</td>\n",
       "      <td>1/1/2017</td>\n",
       "      <td>2</td>\n",
       "      <td>married</td>\n",
       "      <td>32072</td>\n",
       "    </tr>\n",
       "  </tbody>\n",
       "</table>\n",
       "</div>"
      ],
      "text/plain": [
       "   user_id First Name    Surnam  Gender           STATE  Age date_joined  \\\n",
       "0    26711    Deborah  Esquivel  Female        Missouri   48    1/1/2017   \n",
       "1    33890   Patricia      Hart  Female      New Mexico   36    1/1/2017   \n",
       "2    65803    Kenneth    Farley    Male           Idaho   35    1/1/2017   \n",
       "3   125935   Michelle     Hicks  Female            Iowa   40    1/1/2017   \n",
       "4   130797        Ann   Gilmore  Female        Maryland   26    1/1/2017   \n",
       "5   133128    Cynthia     Noble  Female        Kentucky   43    1/1/2017   \n",
       "6   152052      Chris    Walton    Male         Montana   20    1/1/2017   \n",
       "7   168851     Joseph   Hickman    Male  South Carolina   30    1/1/2017   \n",
       "8    69965     Jeremy      Vang    Male           Texas   47    1/1/2017   \n",
       "9    82820      Shawn     Chung    Male        Virginia   26    1/1/2017   \n",
       "\n",
       "   n_dependants fam_status  income  \n",
       "0             3    married  165665  \n",
       "1             0     single   59285  \n",
       "2             2    married   99568  \n",
       "3             0     single   42049  \n",
       "4             1    married   40374  \n",
       "5             2    married   49643  \n",
       "6             0     single   61746  \n",
       "7             0     single   63712  \n",
       "8             1    married  162432  \n",
       "9             2    married   32072  "
      ]
     },
     "execution_count": 25,
     "metadata": {},
     "output_type": "execute_result"
    }
   ],
   "source": [
    "# Check output\n",
    "df_cust.head(10)"
   ]
  },
  {
   "cell_type": "code",
   "execution_count": 26,
   "id": "1a7c15d6-6bd7-4a3f-a3bc-5c30df851d42",
   "metadata": {
    "scrolled": true
   },
   "outputs": [
    {
     "data": {
      "text/plain": [
       "(206209, 10)"
      ]
     },
     "execution_count": 26,
     "metadata": {},
     "output_type": "execute_result"
    }
   ],
   "source": [
    "# Check number of rows\n",
    "df_cust.shape"
   ]
  },
  {
   "cell_type": "markdown",
   "id": "72af53d6-39c6-4395-8d5e-e252d4f66139",
   "metadata": {},
   "source": [
    "### Step 4: Data Wrangling"
   ]
  },
  {
   "cell_type": "code",
   "execution_count": 28,
   "id": "f5f0eec7-1567-48f1-80a4-9f8c022b6703",
   "metadata": {},
   "outputs": [],
   "source": [
    "# Rename columns for consistency\n",
    "df_cust.rename(columns={\n",
    "    'First Name': 'first_name',\n",
    "    'Surnam': 'last_name',\n",
    "    'Gender': 'gender',\n",
    "    'STATE': 'state',\n",
    "    'Age': 'age',\n",
    "    'date_joined': 'date_joined',\n",
    "    'n_dependants': 'num_dependents',\n",
    "    'fam_status': 'family_status',\n",
    "    'income': 'annual_income'\n",
    "}, inplace=True)"
   ]
  },
  {
   "cell_type": "code",
   "execution_count": 29,
   "id": "c7df6139-8731-4a17-b59e-b4833333005a",
   "metadata": {},
   "outputs": [
    {
     "data": {
      "text/html": [
       "<div>\n",
       "<style scoped>\n",
       "    .dataframe tbody tr th:only-of-type {\n",
       "        vertical-align: middle;\n",
       "    }\n",
       "\n",
       "    .dataframe tbody tr th {\n",
       "        vertical-align: top;\n",
       "    }\n",
       "\n",
       "    .dataframe thead th {\n",
       "        text-align: right;\n",
       "    }\n",
       "</style>\n",
       "<table border=\"1\" class=\"dataframe\">\n",
       "  <thead>\n",
       "    <tr style=\"text-align: right;\">\n",
       "      <th></th>\n",
       "      <th>user_id</th>\n",
       "      <th>first_name</th>\n",
       "      <th>last_name</th>\n",
       "      <th>gender</th>\n",
       "      <th>state</th>\n",
       "      <th>age</th>\n",
       "      <th>date_joined</th>\n",
       "      <th>num_dependents</th>\n",
       "      <th>family_status</th>\n",
       "      <th>annual_income</th>\n",
       "    </tr>\n",
       "  </thead>\n",
       "  <tbody>\n",
       "    <tr>\n",
       "      <th>0</th>\n",
       "      <td>26711</td>\n",
       "      <td>Deborah</td>\n",
       "      <td>Esquivel</td>\n",
       "      <td>Female</td>\n",
       "      <td>Missouri</td>\n",
       "      <td>48</td>\n",
       "      <td>1/1/2017</td>\n",
       "      <td>3</td>\n",
       "      <td>married</td>\n",
       "      <td>165665</td>\n",
       "    </tr>\n",
       "    <tr>\n",
       "      <th>1</th>\n",
       "      <td>33890</td>\n",
       "      <td>Patricia</td>\n",
       "      <td>Hart</td>\n",
       "      <td>Female</td>\n",
       "      <td>New Mexico</td>\n",
       "      <td>36</td>\n",
       "      <td>1/1/2017</td>\n",
       "      <td>0</td>\n",
       "      <td>single</td>\n",
       "      <td>59285</td>\n",
       "    </tr>\n",
       "    <tr>\n",
       "      <th>2</th>\n",
       "      <td>65803</td>\n",
       "      <td>Kenneth</td>\n",
       "      <td>Farley</td>\n",
       "      <td>Male</td>\n",
       "      <td>Idaho</td>\n",
       "      <td>35</td>\n",
       "      <td>1/1/2017</td>\n",
       "      <td>2</td>\n",
       "      <td>married</td>\n",
       "      <td>99568</td>\n",
       "    </tr>\n",
       "    <tr>\n",
       "      <th>3</th>\n",
       "      <td>125935</td>\n",
       "      <td>Michelle</td>\n",
       "      <td>Hicks</td>\n",
       "      <td>Female</td>\n",
       "      <td>Iowa</td>\n",
       "      <td>40</td>\n",
       "      <td>1/1/2017</td>\n",
       "      <td>0</td>\n",
       "      <td>single</td>\n",
       "      <td>42049</td>\n",
       "    </tr>\n",
       "    <tr>\n",
       "      <th>4</th>\n",
       "      <td>130797</td>\n",
       "      <td>Ann</td>\n",
       "      <td>Gilmore</td>\n",
       "      <td>Female</td>\n",
       "      <td>Maryland</td>\n",
       "      <td>26</td>\n",
       "      <td>1/1/2017</td>\n",
       "      <td>1</td>\n",
       "      <td>married</td>\n",
       "      <td>40374</td>\n",
       "    </tr>\n",
       "  </tbody>\n",
       "</table>\n",
       "</div>"
      ],
      "text/plain": [
       "   user_id first_name last_name  gender       state  age date_joined  \\\n",
       "0    26711    Deborah  Esquivel  Female    Missouri   48    1/1/2017   \n",
       "1    33890   Patricia      Hart  Female  New Mexico   36    1/1/2017   \n",
       "2    65803    Kenneth    Farley    Male       Idaho   35    1/1/2017   \n",
       "3   125935   Michelle     Hicks  Female        Iowa   40    1/1/2017   \n",
       "4   130797        Ann   Gilmore  Female    Maryland   26    1/1/2017   \n",
       "\n",
       "   num_dependents family_status  annual_income  \n",
       "0               3       married         165665  \n",
       "1               0        single          59285  \n",
       "2               2       married          99568  \n",
       "3               0        single          42049  \n",
       "4               1       married          40374  "
      ]
     },
     "execution_count": 29,
     "metadata": {},
     "output_type": "execute_result"
    }
   ],
   "source": [
    "df_cust.head()"
   ]
  },
  {
   "cell_type": "code",
   "execution_count": 30,
   "id": "716c3927-6ecb-41ad-aa08-b2a1b2317958",
   "metadata": {},
   "outputs": [],
   "source": [
    "# Convert `date_joined` to `years_as_customer`\n",
    "df_cust['date_joined'] = pd.to_datetime(df_cust['date_joined'], errors='coerce')  # Convert to datetime"
   ]
  },
  {
   "cell_type": "code",
   "execution_count": 31,
   "id": "9df6ef63-103e-44a3-843a-e4f78ce1e11a",
   "metadata": {},
   "outputs": [],
   "source": [
    "# Import datetime module\n",
    "from datetime import datetime\n",
    "\n",
    "# Get current year\n",
    "current_year = datetime.today().year "
   ]
  },
  {
   "cell_type": "code",
   "execution_count": 32,
   "id": "a80078b4-63a4-4dd0-88b6-bc0ce8f2dcfc",
   "metadata": {},
   "outputs": [],
   "source": [
    "# Calculate years\n",
    "df_cust['years_as_customer'] = current_year - df_cust['date_joined'].dt.year"
   ]
  },
  {
   "cell_type": "code",
   "execution_count": 33,
   "id": "c328e02a-e042-414d-bc00-29e63d4e3403",
   "metadata": {},
   "outputs": [
    {
     "data": {
      "text/html": [
       "<div>\n",
       "<style scoped>\n",
       "    .dataframe tbody tr th:only-of-type {\n",
       "        vertical-align: middle;\n",
       "    }\n",
       "\n",
       "    .dataframe tbody tr th {\n",
       "        vertical-align: top;\n",
       "    }\n",
       "\n",
       "    .dataframe thead th {\n",
       "        text-align: right;\n",
       "    }\n",
       "</style>\n",
       "<table border=\"1\" class=\"dataframe\">\n",
       "  <thead>\n",
       "    <tr style=\"text-align: right;\">\n",
       "      <th></th>\n",
       "      <th>user_id</th>\n",
       "      <th>date_joined</th>\n",
       "      <th>years_as_customer</th>\n",
       "    </tr>\n",
       "  </thead>\n",
       "  <tbody>\n",
       "    <tr>\n",
       "      <th>0</th>\n",
       "      <td>26711</td>\n",
       "      <td>2017-01-01</td>\n",
       "      <td>8</td>\n",
       "    </tr>\n",
       "    <tr>\n",
       "      <th>1</th>\n",
       "      <td>33890</td>\n",
       "      <td>2017-01-01</td>\n",
       "      <td>8</td>\n",
       "    </tr>\n",
       "    <tr>\n",
       "      <th>2</th>\n",
       "      <td>65803</td>\n",
       "      <td>2017-01-01</td>\n",
       "      <td>8</td>\n",
       "    </tr>\n",
       "    <tr>\n",
       "      <th>3</th>\n",
       "      <td>125935</td>\n",
       "      <td>2017-01-01</td>\n",
       "      <td>8</td>\n",
       "    </tr>\n",
       "    <tr>\n",
       "      <th>4</th>\n",
       "      <td>130797</td>\n",
       "      <td>2017-01-01</td>\n",
       "      <td>8</td>\n",
       "    </tr>\n",
       "  </tbody>\n",
       "</table>\n",
       "</div>"
      ],
      "text/plain": [
       "   user_id date_joined  years_as_customer\n",
       "0    26711  2017-01-01                  8\n",
       "1    33890  2017-01-01                  8\n",
       "2    65803  2017-01-01                  8\n",
       "3   125935  2017-01-01                  8\n",
       "4   130797  2017-01-01                  8"
      ]
     },
     "execution_count": 33,
     "metadata": {},
     "output_type": "execute_result"
    }
   ],
   "source": [
    "# Check output\n",
    "(df_cust[['user_id', 'date_joined', 'years_as_customer']].head())"
   ]
  },
  {
   "cell_type": "code",
   "execution_count": 34,
   "id": "8758ef46-7925-4532-9aeb-8680bf6a4650",
   "metadata": {},
   "outputs": [
    {
     "data": {
      "text/plain": [
       "gender\n",
       "Male      104067\n",
       "Female    102142\n",
       "Name: count, dtype: int64"
      ]
     },
     "execution_count": 34,
     "metadata": {},
     "output_type": "execute_result"
    }
   ],
   "source": [
    "# Check consistency of column outputs\n",
    "df_cust['gender'].value_counts()"
   ]
  },
  {
   "cell_type": "code",
   "execution_count": 35,
   "id": "16f54055-56c2-4abd-8641-9eddba1f3501",
   "metadata": {},
   "outputs": [
    {
     "data": {
      "text/plain": [
       "state\n",
       "Florida                 4044\n",
       "Colorado                4044\n",
       "Illinois                4044\n",
       "Alabama                 4044\n",
       "District of Columbia    4044\n",
       "Hawaii                  4044\n",
       "Arizona                 4044\n",
       "Connecticut             4044\n",
       "California              4044\n",
       "Indiana                 4044\n",
       "Arkansas                4044\n",
       "Alaska                  4044\n",
       "Delaware                4044\n",
       "Iowa                    4044\n",
       "Idaho                   4044\n",
       "Georgia                 4044\n",
       "Wyoming                 4043\n",
       "Mississippi             4043\n",
       "Oklahoma                4043\n",
       "Utah                    4043\n",
       "New Hampshire           4043\n",
       "Kentucky                4043\n",
       "Maryland                4043\n",
       "Rhode Island            4043\n",
       "Massachusetts           4043\n",
       "Michigan                4043\n",
       "New Jersey              4043\n",
       "Kansas                  4043\n",
       "South Dakota            4043\n",
       "Minnesota               4043\n",
       "Tennessee               4043\n",
       "New York                4043\n",
       "Washington              4043\n",
       "Louisiana               4043\n",
       "Montana                 4043\n",
       "North Dakota            4043\n",
       "Wisconsin               4043\n",
       "Nebraska                4043\n",
       "Vermont                 4043\n",
       "Nevada                  4043\n",
       "Maine                   4043\n",
       "North Carolina          4043\n",
       "West Virginia           4043\n",
       "Virginia                4043\n",
       "Oregon                  4043\n",
       "New Mexico              4043\n",
       "Texas                   4043\n",
       "Pennsylvania            4043\n",
       "Ohio                    4043\n",
       "South Carolina          4043\n",
       "Missouri                4043\n",
       "Name: count, dtype: int64"
      ]
     },
     "execution_count": 35,
     "metadata": {},
     "output_type": "execute_result"
    }
   ],
   "source": [
    "# Check consistency of column outputs\n",
    "df_cust['state'].value_counts()"
   ]
  },
  {
   "cell_type": "code",
   "execution_count": 36,
   "id": "bb38cffa-cb02-48cf-b531-f0e078416089",
   "metadata": {},
   "outputs": [
    {
     "data": {
      "text/plain": [
       "family_status\n",
       "married                             144906\n",
       "single                               33962\n",
       "divorced/widowed                     17640\n",
       "living with parents and siblings      9701\n",
       "Name: count, dtype: int64"
      ]
     },
     "execution_count": 36,
     "metadata": {},
     "output_type": "execute_result"
    }
   ],
   "source": [
    "# Check consistency of column outputs\n",
    "df_cust['family_status'].value_counts()"
   ]
  },
  {
   "cell_type": "code",
   "execution_count": 37,
   "id": "3d873e2e-e9fe-4610-a9bd-2f602dc4051a",
   "metadata": {},
   "outputs": [
    {
     "name": "stdout",
     "output_type": "stream",
     "text": [
      "user_id                       int64\n",
      "first_name                   object\n",
      "last_name                    object\n",
      "gender                       object\n",
      "state                        object\n",
      "age                           int64\n",
      "date_joined          datetime64[ns]\n",
      "num_dependents                int64\n",
      "family_status                object\n",
      "annual_income                 int64\n",
      "years_as_customer             int32\n",
      "dtype: object\n"
     ]
    }
   ],
   "source": [
    "# Check data types\n",
    "print(df_cust.dtypes)"
   ]
  },
  {
   "cell_type": "code",
   "execution_count": 38,
   "id": "a522bb56-c83a-4234-9ad2-544158d9f362",
   "metadata": {},
   "outputs": [],
   "source": [
    "# Convert text columns to string\n",
    "df_cust['first_name'] = df_cust['first_name'].astype('string')\n",
    "df_cust['last_name'] = df_cust['last_name'].astype('string')\n",
    "\n",
    "# Convert categorical columns to category\n",
    "df_cust['gender'] = df_cust['gender'].astype('category')\n",
    "df_cust['state'] = df_cust['state'].astype('category')\n",
    "df_cust['family_status'] = df_cust['family_status'].astype('category')"
   ]
  },
  {
   "cell_type": "code",
   "execution_count": 39,
   "id": "1eb72402-cb07-4c67-acef-3265eabe3288",
   "metadata": {},
   "outputs": [
    {
     "name": "stdout",
     "output_type": "stream",
     "text": [
      "user_id                       int64\n",
      "first_name           string[python]\n",
      "last_name            string[python]\n",
      "gender                     category\n",
      "state                      category\n",
      "age                           int64\n",
      "date_joined          datetime64[ns]\n",
      "num_dependents                int64\n",
      "family_status              category\n",
      "annual_income                 int64\n",
      "years_as_customer             int32\n",
      "dtype: object\n"
     ]
    }
   ],
   "source": [
    "# Verify changes\n",
    "print(df_cust.dtypes)"
   ]
  },
  {
   "cell_type": "markdown",
   "id": "c011ba26-377c-45a1-a108-1d05a4cf7e7d",
   "metadata": {},
   "source": [
    "### Step 5: Data Consistency Checks"
   ]
  },
  {
   "cell_type": "code",
   "execution_count": 41,
   "id": "d8f88953-7a32-4128-b9c6-fb9b24421728",
   "metadata": {},
   "outputs": [
    {
     "data": {
      "text/plain": [
       "user_id                  0\n",
       "first_name           11259\n",
       "last_name                0\n",
       "gender                   0\n",
       "state                    0\n",
       "age                      0\n",
       "date_joined              0\n",
       "num_dependents           0\n",
       "family_status            0\n",
       "annual_income            0\n",
       "years_as_customer        0\n",
       "dtype: int64"
      ]
     },
     "execution_count": 41,
     "metadata": {},
     "output_type": "execute_result"
    }
   ],
   "source": [
    "# Check for missing values\n",
    "df_cust.isnull().sum()"
   ]
  },
  {
   "cell_type": "code",
   "execution_count": 42,
   "id": "f60d5411-977f-400e-bb42-14b1c5ec70e6",
   "metadata": {},
   "outputs": [
    {
     "name": "stderr",
     "output_type": "stream",
     "text": [
      "C:\\Users\\daxma\\AppData\\Local\\Temp\\ipykernel_3456\\3426051632.py:2: FutureWarning: A value is trying to be set on a copy of a DataFrame or Series through chained assignment using an inplace method.\n",
      "The behavior will change in pandas 3.0. This inplace method will never work because the intermediate object on which we are setting values always behaves as a copy.\n",
      "\n",
      "For example, when doing 'df[col].method(value, inplace=True)', try using 'df.method({col: value}, inplace=True)' or df[col] = df[col].method(value) instead, to perform the operation inplace on the original object.\n",
      "\n",
      "\n",
      "  df_cust['first_name'].fillna('Unknown', inplace=True)\n"
     ]
    }
   ],
   "source": [
    "# Replace missing values in first_name with 'Unknown'\n",
    "df_cust['first_name'].fillna('Unknown', inplace=True)"
   ]
  },
  {
   "cell_type": "code",
   "execution_count": 43,
   "id": "ff99eeed-9f21-409b-be23-cde38df8806c",
   "metadata": {},
   "outputs": [
    {
     "data": {
      "text/plain": [
       "user_id              0\n",
       "first_name           0\n",
       "last_name            0\n",
       "gender               0\n",
       "state                0\n",
       "age                  0\n",
       "date_joined          0\n",
       "num_dependents       0\n",
       "family_status        0\n",
       "annual_income        0\n",
       "years_as_customer    0\n",
       "dtype: int64"
      ]
     },
     "execution_count": 43,
     "metadata": {},
     "output_type": "execute_result"
    }
   ],
   "source": [
    "# Verify changes\n",
    "df_cust.isnull().sum()"
   ]
  },
  {
   "cell_type": "code",
   "execution_count": 44,
   "id": "4f75a274-395f-484f-9cfd-f491b476b7ba",
   "metadata": {},
   "outputs": [],
   "source": [
    "# Check for full duplicate rows\n",
    "df_dups = df_cust[df_cust.duplicated()]"
   ]
  },
  {
   "cell_type": "code",
   "execution_count": 45,
   "id": "ffe846d6-176f-4377-a05c-b99bc4bd9f87",
   "metadata": {},
   "outputs": [
    {
     "data": {
      "text/html": [
       "<div>\n",
       "<style scoped>\n",
       "    .dataframe tbody tr th:only-of-type {\n",
       "        vertical-align: middle;\n",
       "    }\n",
       "\n",
       "    .dataframe tbody tr th {\n",
       "        vertical-align: top;\n",
       "    }\n",
       "\n",
       "    .dataframe thead th {\n",
       "        text-align: right;\n",
       "    }\n",
       "</style>\n",
       "<table border=\"1\" class=\"dataframe\">\n",
       "  <thead>\n",
       "    <tr style=\"text-align: right;\">\n",
       "      <th></th>\n",
       "      <th>user_id</th>\n",
       "      <th>first_name</th>\n",
       "      <th>last_name</th>\n",
       "      <th>gender</th>\n",
       "      <th>state</th>\n",
       "      <th>age</th>\n",
       "      <th>date_joined</th>\n",
       "      <th>num_dependents</th>\n",
       "      <th>family_status</th>\n",
       "      <th>annual_income</th>\n",
       "      <th>years_as_customer</th>\n",
       "    </tr>\n",
       "  </thead>\n",
       "  <tbody>\n",
       "  </tbody>\n",
       "</table>\n",
       "</div>"
      ],
      "text/plain": [
       "Empty DataFrame\n",
       "Columns: [user_id, first_name, last_name, gender, state, age, date_joined, num_dependents, family_status, annual_income, years_as_customer]\n",
       "Index: []"
      ]
     },
     "execution_count": 45,
     "metadata": {},
     "output_type": "execute_result"
    }
   ],
   "source": [
    "# Check output\n",
    "df_dups"
   ]
  },
  {
   "cell_type": "markdown",
   "id": "12e67ded-273e-4e7d-88bb-773cae298044",
   "metadata": {},
   "source": [
    "#### No duplicate rows found"
   ]
  },
  {
   "cell_type": "code",
   "execution_count": 47,
   "id": "02ce7895-4121-4d0e-a21b-f4d8e52032a9",
   "metadata": {},
   "outputs": [],
   "source": [
    "# Check for mixed-type columns\n",
    "for col in df_cust.columns.tolist():\n",
    "  weird = (df_cust[[col]].map(type) != df_cust[[col]].iloc[0].map(type)).any(axis = 1)\n",
    "  if len (df_cust[weird]) > 0:\n",
    "    print (col)"
   ]
  },
  {
   "cell_type": "code",
   "execution_count": 72,
   "id": "cb2a767d-087f-473c-81cc-0a0b946bf129",
   "metadata": {},
   "outputs": [
    {
     "data": {
      "text/plain": [
       "(206209, 11)"
      ]
     },
     "execution_count": 72,
     "metadata": {},
     "output_type": "execute_result"
    }
   ],
   "source": [
    "# Check number of rows\n",
    "df_cust.shape"
   ]
  },
  {
   "cell_type": "markdown",
   "id": "9be3cd70-507b-4771-b440-5323736ad039",
   "metadata": {},
   "source": [
    "#### No mixed-type columns found"
   ]
  },
  {
   "cell_type": "markdown",
   "id": "08f28794-8469-4c11-ae29-290f81cf7d61",
   "metadata": {},
   "source": [
    "### Step 6: Combining customer data with rest of prepared data"
   ]
  },
  {
   "cell_type": "code",
   "execution_count": 192,
   "id": "478cdbaa-2300-4f15-bfb1-21675bc30e76",
   "metadata": {},
   "outputs": [],
   "source": [
    "# Import up to date orders and products dataframe\n",
    "file_path = os.path.join(path, '02 Data', 'Prepared Data', 'ords_prods_merge_new_cols.pkl')\n",
    "ords_prods_merge = pd.read_pickle(file_path)"
   ]
  },
  {
   "cell_type": "code",
   "execution_count": 193,
   "id": "714cf188-6137-49f4-acea-cd64e07923c3",
   "metadata": {},
   "outputs": [
    {
     "data": {
      "text/html": [
       "<div>\n",
       "<style scoped>\n",
       "    .dataframe tbody tr th:only-of-type {\n",
       "        vertical-align: middle;\n",
       "    }\n",
       "\n",
       "    .dataframe tbody tr th {\n",
       "        vertical-align: top;\n",
       "    }\n",
       "\n",
       "    .dataframe thead th {\n",
       "        text-align: right;\n",
       "    }\n",
       "</style>\n",
       "<table border=\"1\" class=\"dataframe\">\n",
       "  <thead>\n",
       "    <tr style=\"text-align: right;\">\n",
       "      <th></th>\n",
       "      <th>order_id</th>\n",
       "      <th>user_id</th>\n",
       "      <th>order_number</th>\n",
       "      <th>orders_day_of_week</th>\n",
       "      <th>order_hour_of_day</th>\n",
       "      <th>days_since_prior_order</th>\n",
       "      <th>first_order_flag</th>\n",
       "      <th>product_id</th>\n",
       "      <th>add_to_cart_order</th>\n",
       "      <th>reordered</th>\n",
       "      <th>...</th>\n",
       "      <th>busiest_days</th>\n",
       "      <th>busiest_period_of_day</th>\n",
       "      <th>max_order</th>\n",
       "      <th>loyalty_flag</th>\n",
       "      <th>avg_product_price</th>\n",
       "      <th>product_spending_flag</th>\n",
       "      <th>avg_order_spending</th>\n",
       "      <th>order_spending_flag</th>\n",
       "      <th>median_days_since_prior_order</th>\n",
       "      <th>order_freq_flag</th>\n",
       "    </tr>\n",
       "  </thead>\n",
       "  <tbody>\n",
       "    <tr>\n",
       "      <th>0</th>\n",
       "      <td>2539329</td>\n",
       "      <td>1</td>\n",
       "      <td>1</td>\n",
       "      <td>2</td>\n",
       "      <td>8</td>\n",
       "      <td>NaN</td>\n",
       "      <td>1</td>\n",
       "      <td>196</td>\n",
       "      <td>1</td>\n",
       "      <td>0</td>\n",
       "      <td>...</td>\n",
       "      <td>Regularly busy</td>\n",
       "      <td>Average orders</td>\n",
       "      <td>10</td>\n",
       "      <td>New customer</td>\n",
       "      <td>6.367797</td>\n",
       "      <td>Low product spender</td>\n",
       "      <td>37.57</td>\n",
       "      <td>Low order spender</td>\n",
       "      <td>20.5</td>\n",
       "      <td>Non-frequent customer</td>\n",
       "    </tr>\n",
       "    <tr>\n",
       "      <th>1</th>\n",
       "      <td>2539329</td>\n",
       "      <td>1</td>\n",
       "      <td>1</td>\n",
       "      <td>2</td>\n",
       "      <td>8</td>\n",
       "      <td>NaN</td>\n",
       "      <td>1</td>\n",
       "      <td>14084</td>\n",
       "      <td>2</td>\n",
       "      <td>0</td>\n",
       "      <td>...</td>\n",
       "      <td>Regularly busy</td>\n",
       "      <td>Average orders</td>\n",
       "      <td>10</td>\n",
       "      <td>New customer</td>\n",
       "      <td>6.367797</td>\n",
       "      <td>Low product spender</td>\n",
       "      <td>37.57</td>\n",
       "      <td>Low order spender</td>\n",
       "      <td>20.5</td>\n",
       "      <td>Non-frequent customer</td>\n",
       "    </tr>\n",
       "    <tr>\n",
       "      <th>2</th>\n",
       "      <td>2539329</td>\n",
       "      <td>1</td>\n",
       "      <td>1</td>\n",
       "      <td>2</td>\n",
       "      <td>8</td>\n",
       "      <td>NaN</td>\n",
       "      <td>1</td>\n",
       "      <td>12427</td>\n",
       "      <td>3</td>\n",
       "      <td>0</td>\n",
       "      <td>...</td>\n",
       "      <td>Regularly busy</td>\n",
       "      <td>Average orders</td>\n",
       "      <td>10</td>\n",
       "      <td>New customer</td>\n",
       "      <td>6.367797</td>\n",
       "      <td>Low product spender</td>\n",
       "      <td>37.57</td>\n",
       "      <td>Low order spender</td>\n",
       "      <td>20.5</td>\n",
       "      <td>Non-frequent customer</td>\n",
       "    </tr>\n",
       "    <tr>\n",
       "      <th>3</th>\n",
       "      <td>2539329</td>\n",
       "      <td>1</td>\n",
       "      <td>1</td>\n",
       "      <td>2</td>\n",
       "      <td>8</td>\n",
       "      <td>NaN</td>\n",
       "      <td>1</td>\n",
       "      <td>26088</td>\n",
       "      <td>4</td>\n",
       "      <td>0</td>\n",
       "      <td>...</td>\n",
       "      <td>Regularly busy</td>\n",
       "      <td>Average orders</td>\n",
       "      <td>10</td>\n",
       "      <td>New customer</td>\n",
       "      <td>6.367797</td>\n",
       "      <td>Low product spender</td>\n",
       "      <td>37.57</td>\n",
       "      <td>Low order spender</td>\n",
       "      <td>20.5</td>\n",
       "      <td>Non-frequent customer</td>\n",
       "    </tr>\n",
       "    <tr>\n",
       "      <th>4</th>\n",
       "      <td>2539329</td>\n",
       "      <td>1</td>\n",
       "      <td>1</td>\n",
       "      <td>2</td>\n",
       "      <td>8</td>\n",
       "      <td>NaN</td>\n",
       "      <td>1</td>\n",
       "      <td>26405</td>\n",
       "      <td>5</td>\n",
       "      <td>0</td>\n",
       "      <td>...</td>\n",
       "      <td>Regularly busy</td>\n",
       "      <td>Average orders</td>\n",
       "      <td>10</td>\n",
       "      <td>New customer</td>\n",
       "      <td>6.367797</td>\n",
       "      <td>Low product spender</td>\n",
       "      <td>37.57</td>\n",
       "      <td>Low order spender</td>\n",
       "      <td>20.5</td>\n",
       "      <td>Non-frequent customer</td>\n",
       "    </tr>\n",
       "  </tbody>\n",
       "</table>\n",
       "<p>5 rows × 26 columns</p>\n",
       "</div>"
      ],
      "text/plain": [
       "   order_id  user_id  order_number  orders_day_of_week  order_hour_of_day  \\\n",
       "0   2539329        1             1                   2                  8   \n",
       "1   2539329        1             1                   2                  8   \n",
       "2   2539329        1             1                   2                  8   \n",
       "3   2539329        1             1                   2                  8   \n",
       "4   2539329        1             1                   2                  8   \n",
       "\n",
       "   days_since_prior_order  first_order_flag  product_id  add_to_cart_order  \\\n",
       "0                     NaN                 1         196                  1   \n",
       "1                     NaN                 1       14084                  2   \n",
       "2                     NaN                 1       12427                  3   \n",
       "3                     NaN                 1       26088                  4   \n",
       "4                     NaN                 1       26405                  5   \n",
       "\n",
       "   reordered  ...    busiest_days  busiest_period_of_day  max_order  \\\n",
       "0          0  ...  Regularly busy         Average orders         10   \n",
       "1          0  ...  Regularly busy         Average orders         10   \n",
       "2          0  ...  Regularly busy         Average orders         10   \n",
       "3          0  ...  Regularly busy         Average orders         10   \n",
       "4          0  ...  Regularly busy         Average orders         10   \n",
       "\n",
       "   loyalty_flag avg_product_price product_spending_flag avg_order_spending  \\\n",
       "0  New customer          6.367797   Low product spender              37.57   \n",
       "1  New customer          6.367797   Low product spender              37.57   \n",
       "2  New customer          6.367797   Low product spender              37.57   \n",
       "3  New customer          6.367797   Low product spender              37.57   \n",
       "4  New customer          6.367797   Low product spender              37.57   \n",
       "\n",
       "  order_spending_flag  median_days_since_prior_order        order_freq_flag  \n",
       "0   Low order spender                           20.5  Non-frequent customer  \n",
       "1   Low order spender                           20.5  Non-frequent customer  \n",
       "2   Low order spender                           20.5  Non-frequent customer  \n",
       "3   Low order spender                           20.5  Non-frequent customer  \n",
       "4   Low order spender                           20.5  Non-frequent customer  \n",
       "\n",
       "[5 rows x 26 columns]"
      ]
     },
     "execution_count": 193,
     "metadata": {},
     "output_type": "execute_result"
    }
   ],
   "source": [
    "# Check output\n",
    "ords_prods_merge.head()"
   ]
  },
  {
   "cell_type": "code",
   "execution_count": 194,
   "id": "31b43717-c8ce-482b-98ed-4dd32f3b91c2",
   "metadata": {},
   "outputs": [
    {
     "data": {
      "text/plain": [
       "dtype('int64')"
      ]
     },
     "execution_count": 194,
     "metadata": {},
     "output_type": "execute_result"
    }
   ],
   "source": [
    "# Check user_id dtype in ords_prods_merge\n",
    "ords_prods_merge['user_id'].dtype"
   ]
  },
  {
   "cell_type": "code",
   "execution_count": 224,
   "id": "f9169b9b-9038-4ca9-8ad3-7796ec3626f0",
   "metadata": {},
   "outputs": [],
   "source": [
    "# Merge customer dataframe with ords_prods dataframe\n",
    "df_ords_prods_cust_merged = df_cust.merge(ords_prods_merge, on = 'user_id')"
   ]
  },
  {
   "cell_type": "code",
   "execution_count": 226,
   "id": "ee023c8f-39c2-4681-947c-251165b3d2c5",
   "metadata": {},
   "outputs": [
    {
     "data": {
      "text/html": [
       "<div>\n",
       "<style scoped>\n",
       "    .dataframe tbody tr th:only-of-type {\n",
       "        vertical-align: middle;\n",
       "    }\n",
       "\n",
       "    .dataframe tbody tr th {\n",
       "        vertical-align: top;\n",
       "    }\n",
       "\n",
       "    .dataframe thead th {\n",
       "        text-align: right;\n",
       "    }\n",
       "</style>\n",
       "<table border=\"1\" class=\"dataframe\">\n",
       "  <thead>\n",
       "    <tr style=\"text-align: right;\">\n",
       "      <th></th>\n",
       "      <th>user_id</th>\n",
       "      <th>first_name</th>\n",
       "      <th>last_name</th>\n",
       "      <th>gender</th>\n",
       "      <th>state</th>\n",
       "      <th>age</th>\n",
       "      <th>date_joined</th>\n",
       "      <th>num_dependents</th>\n",
       "      <th>family_status</th>\n",
       "      <th>annual_income</th>\n",
       "      <th>...</th>\n",
       "      <th>busiest_days</th>\n",
       "      <th>busiest_period_of_day</th>\n",
       "      <th>max_order</th>\n",
       "      <th>loyalty_flag</th>\n",
       "      <th>avg_product_price</th>\n",
       "      <th>product_spending_flag</th>\n",
       "      <th>avg_order_spending</th>\n",
       "      <th>order_spending_flag</th>\n",
       "      <th>median_days_since_prior_order</th>\n",
       "      <th>order_freq_flag</th>\n",
       "    </tr>\n",
       "  </thead>\n",
       "  <tbody>\n",
       "    <tr>\n",
       "      <th>0</th>\n",
       "      <td>26711</td>\n",
       "      <td>Deborah</td>\n",
       "      <td>Esquivel</td>\n",
       "      <td>Female</td>\n",
       "      <td>Missouri</td>\n",
       "      <td>48</td>\n",
       "      <td>2017-01-01</td>\n",
       "      <td>3</td>\n",
       "      <td>married</td>\n",
       "      <td>165665</td>\n",
       "      <td>...</td>\n",
       "      <td>Regularly busy</td>\n",
       "      <td>Average orders</td>\n",
       "      <td>8</td>\n",
       "      <td>New customer</td>\n",
       "      <td>7.988889</td>\n",
       "      <td>Low product spender</td>\n",
       "      <td>17.975</td>\n",
       "      <td>Low order spender</td>\n",
       "      <td>19.0</td>\n",
       "      <td>Regular customer</td>\n",
       "    </tr>\n",
       "    <tr>\n",
       "      <th>1</th>\n",
       "      <td>26711</td>\n",
       "      <td>Deborah</td>\n",
       "      <td>Esquivel</td>\n",
       "      <td>Female</td>\n",
       "      <td>Missouri</td>\n",
       "      <td>48</td>\n",
       "      <td>2017-01-01</td>\n",
       "      <td>3</td>\n",
       "      <td>married</td>\n",
       "      <td>165665</td>\n",
       "      <td>...</td>\n",
       "      <td>Regularly busy</td>\n",
       "      <td>Average orders</td>\n",
       "      <td>8</td>\n",
       "      <td>New customer</td>\n",
       "      <td>7.988889</td>\n",
       "      <td>Low product spender</td>\n",
       "      <td>17.975</td>\n",
       "      <td>Low order spender</td>\n",
       "      <td>19.0</td>\n",
       "      <td>Regular customer</td>\n",
       "    </tr>\n",
       "    <tr>\n",
       "      <th>2</th>\n",
       "      <td>26711</td>\n",
       "      <td>Deborah</td>\n",
       "      <td>Esquivel</td>\n",
       "      <td>Female</td>\n",
       "      <td>Missouri</td>\n",
       "      <td>48</td>\n",
       "      <td>2017-01-01</td>\n",
       "      <td>3</td>\n",
       "      <td>married</td>\n",
       "      <td>165665</td>\n",
       "      <td>...</td>\n",
       "      <td>Slowest days</td>\n",
       "      <td>Most orders</td>\n",
       "      <td>8</td>\n",
       "      <td>New customer</td>\n",
       "      <td>7.988889</td>\n",
       "      <td>Low product spender</td>\n",
       "      <td>17.975</td>\n",
       "      <td>Low order spender</td>\n",
       "      <td>19.0</td>\n",
       "      <td>Regular customer</td>\n",
       "    </tr>\n",
       "    <tr>\n",
       "      <th>3</th>\n",
       "      <td>26711</td>\n",
       "      <td>Deborah</td>\n",
       "      <td>Esquivel</td>\n",
       "      <td>Female</td>\n",
       "      <td>Missouri</td>\n",
       "      <td>48</td>\n",
       "      <td>2017-01-01</td>\n",
       "      <td>3</td>\n",
       "      <td>married</td>\n",
       "      <td>165665</td>\n",
       "      <td>...</td>\n",
       "      <td>Slowest days</td>\n",
       "      <td>Most orders</td>\n",
       "      <td>8</td>\n",
       "      <td>New customer</td>\n",
       "      <td>7.988889</td>\n",
       "      <td>Low product spender</td>\n",
       "      <td>17.975</td>\n",
       "      <td>Low order spender</td>\n",
       "      <td>19.0</td>\n",
       "      <td>Regular customer</td>\n",
       "    </tr>\n",
       "    <tr>\n",
       "      <th>4</th>\n",
       "      <td>26711</td>\n",
       "      <td>Deborah</td>\n",
       "      <td>Esquivel</td>\n",
       "      <td>Female</td>\n",
       "      <td>Missouri</td>\n",
       "      <td>48</td>\n",
       "      <td>2017-01-01</td>\n",
       "      <td>3</td>\n",
       "      <td>married</td>\n",
       "      <td>165665</td>\n",
       "      <td>...</td>\n",
       "      <td>Slowest days</td>\n",
       "      <td>Most orders</td>\n",
       "      <td>8</td>\n",
       "      <td>New customer</td>\n",
       "      <td>7.988889</td>\n",
       "      <td>Low product spender</td>\n",
       "      <td>17.975</td>\n",
       "      <td>Low order spender</td>\n",
       "      <td>19.0</td>\n",
       "      <td>Regular customer</td>\n",
       "    </tr>\n",
       "  </tbody>\n",
       "</table>\n",
       "<p>5 rows × 36 columns</p>\n",
       "</div>"
      ],
      "text/plain": [
       "   user_id first_name last_name  gender     state  age date_joined  \\\n",
       "0    26711    Deborah  Esquivel  Female  Missouri   48  2017-01-01   \n",
       "1    26711    Deborah  Esquivel  Female  Missouri   48  2017-01-01   \n",
       "2    26711    Deborah  Esquivel  Female  Missouri   48  2017-01-01   \n",
       "3    26711    Deborah  Esquivel  Female  Missouri   48  2017-01-01   \n",
       "4    26711    Deborah  Esquivel  Female  Missouri   48  2017-01-01   \n",
       "\n",
       "   num_dependents family_status  annual_income  ...    busiest_days  \\\n",
       "0               3       married         165665  ...  Regularly busy   \n",
       "1               3       married         165665  ...  Regularly busy   \n",
       "2               3       married         165665  ...    Slowest days   \n",
       "3               3       married         165665  ...    Slowest days   \n",
       "4               3       married         165665  ...    Slowest days   \n",
       "\n",
       "   busiest_period_of_day  max_order  loyalty_flag  avg_product_price  \\\n",
       "0         Average orders          8  New customer           7.988889   \n",
       "1         Average orders          8  New customer           7.988889   \n",
       "2            Most orders          8  New customer           7.988889   \n",
       "3            Most orders          8  New customer           7.988889   \n",
       "4            Most orders          8  New customer           7.988889   \n",
       "\n",
       "   product_spending_flag  avg_order_spending  order_spending_flag  \\\n",
       "0    Low product spender              17.975    Low order spender   \n",
       "1    Low product spender              17.975    Low order spender   \n",
       "2    Low product spender              17.975    Low order spender   \n",
       "3    Low product spender              17.975    Low order spender   \n",
       "4    Low product spender              17.975    Low order spender   \n",
       "\n",
       "   median_days_since_prior_order   order_freq_flag  \n",
       "0                           19.0  Regular customer  \n",
       "1                           19.0  Regular customer  \n",
       "2                           19.0  Regular customer  \n",
       "3                           19.0  Regular customer  \n",
       "4                           19.0  Regular customer  \n",
       "\n",
       "[5 rows x 36 columns]"
      ]
     },
     "execution_count": 226,
     "metadata": {},
     "output_type": "execute_result"
    }
   ],
   "source": [
    "# Check output\n",
    "df_ords_prods_cust_merged.head()"
   ]
  },
  {
   "cell_type": "code",
   "execution_count": 238,
   "id": "55a9931d-e4d4-407e-9fe2-c91d11fe8a65",
   "metadata": {},
   "outputs": [
    {
     "data": {
      "text/plain": [
       "user_id                                0\n",
       "first_name                             0\n",
       "last_name                              0\n",
       "gender                                 0\n",
       "state                                  0\n",
       "age                                    0\n",
       "date_joined                            0\n",
       "num_dependents                         0\n",
       "family_status                          0\n",
       "annual_income                          0\n",
       "years_as_customer                      0\n",
       "order_id                               0\n",
       "order_number                           0\n",
       "orders_day_of_week                     0\n",
       "order_hour_of_day                      0\n",
       "days_since_prior_order           2076096\n",
       "first_order_flag                       0\n",
       "product_id                             0\n",
       "add_to_cart_order                      0\n",
       "reordered                              0\n",
       "product_name                           0\n",
       "aisle_id                               0\n",
       "department_id                          0\n",
       "prices                                 0\n",
       "_merge                                 0\n",
       "price_range_loc                        0\n",
       "busiest_days                           0\n",
       "busiest_period_of_day                  0\n",
       "max_order                              0\n",
       "loyalty_flag                           0\n",
       "avg_product_price                      0\n",
       "product_spending_flag                  0\n",
       "avg_order_spending                     0\n",
       "order_spending_flag                    0\n",
       "median_days_since_prior_order          5\n",
       "order_freq_flag                        5\n",
       "dtype: int64"
      ]
     },
     "execution_count": 238,
     "metadata": {},
     "output_type": "execute_result"
    }
   ],
   "source": [
    "# Check missing values\n",
    "df_ords_prods_cust_merged.isnull().sum()"
   ]
  },
  {
   "cell_type": "code",
   "execution_count": 242,
   "id": "0219d99c-1cb8-4541-bbc7-9122b14b8c74",
   "metadata": {},
   "outputs": [
    {
     "name": "stdout",
     "output_type": "stream",
     "text": [
      "          user_id first_name last_name gender     state  age date_joined  \\\n",
      "18509448   159838      Jason      Nava   Male  Arkansas   63  2018-11-09   \n",
      "18509449   159838      Jason      Nava   Male  Arkansas   63  2018-11-09   \n",
      "18509450   159838      Jason      Nava   Male  Arkansas   63  2018-11-09   \n",
      "18509451   159838      Jason      Nava   Male  Arkansas   63  2018-11-09   \n",
      "18509452   159838      Jason      Nava   Male  Arkansas   63  2018-11-09   \n",
      "\n",
      "          num_dependents family_status  annual_income  ...  busiest_days  \\\n",
      "18509448               3       married         140994  ...  Busiest days   \n",
      "18509449               3       married         140994  ...  Busiest days   \n",
      "18509450               3       married         140994  ...  Busiest days   \n",
      "18509451               3       married         140994  ...  Busiest days   \n",
      "18509452               3       married         140994  ...  Busiest days   \n",
      "\n",
      "          busiest_period_of_day  max_order  loyalty_flag  avg_product_price  \\\n",
      "18509448         Average orders          1  New customer               7.42   \n",
      "18509449         Average orders          1  New customer               7.42   \n",
      "18509450         Average orders          1  New customer               7.42   \n",
      "18509451         Average orders          1  New customer               7.42   \n",
      "18509452         Average orders          1  New customer               7.42   \n",
      "\n",
      "          product_spending_flag  avg_order_spending  order_spending_flag  \\\n",
      "18509448    Low product spender                37.1    Low order spender   \n",
      "18509449    Low product spender                37.1    Low order spender   \n",
      "18509450    Low product spender                37.1    Low order spender   \n",
      "18509451    Low product spender                37.1    Low order spender   \n",
      "18509452    Low product spender                37.1    Low order spender   \n",
      "\n",
      "          median_days_since_prior_order  order_freq_flag  \n",
      "18509448                            NaN              NaN  \n",
      "18509449                            NaN              NaN  \n",
      "18509450                            NaN              NaN  \n",
      "18509451                            NaN              NaN  \n",
      "18509452                            NaN              NaN  \n",
      "\n",
      "[5 rows x 36 columns]\n"
     ]
    }
   ],
   "source": [
    "# Print rows with missing values from order_spending_flag and median_days_since_prior_order\n",
    "missing_rows = df_ords_prods_cust_merged.loc[df_ords_prods_cust_merged['median_days_since_prior_order'].isna() | df_ords_prods_cust_merged['order_freq_flag'].isna()]\n",
    "\n",
    "# Print the filtered rows\n",
    "print(missing_rows)"
   ]
  },
  {
   "cell_type": "markdown",
   "id": "cab9416c-675d-479d-be2b-554111fc3248",
   "metadata": {},
   "source": [
    "#### Missing values here as this customer has only made one order. Therefore, there was no median_days_since_prior_order and because of that an order_freq_flag was not assigned."
   ]
  },
  {
   "cell_type": "code",
   "execution_count": 249,
   "id": "0ee580a6-aaa8-407d-8f41-31bc82362cf5",
   "metadata": {},
   "outputs": [],
   "source": [
    "# Assign 'Non-frequent customer' to user_id 159838\n",
    "df_ords_prods_cust_merged.loc[df_ords_prods_cust_merged['user_id'] == 159838, 'order_freq_flag'] = 'Non-frequent customer'"
   ]
  },
  {
   "cell_type": "code",
   "execution_count": 251,
   "id": "d0acb296-02bd-441c-a5c1-823d03e5bbc3",
   "metadata": {},
   "outputs": [
    {
     "name": "stdout",
     "output_type": "stream",
     "text": [
      "          user_id        order_freq_flag\n",
      "18509448   159838  Non-frequent customer\n",
      "18509449   159838  Non-frequent customer\n",
      "18509450   159838  Non-frequent customer\n",
      "18509451   159838  Non-frequent customer\n",
      "18509452   159838  Non-frequent customer\n"
     ]
    }
   ],
   "source": [
    "# Verify change\n",
    "print(df_ords_prods_cust_merged[df_ords_prods_cust_merged['user_id'] == 159838][['user_id', 'order_freq_flag']])"
   ]
  },
  {
   "cell_type": "markdown",
   "id": "f8b263a9-4115-4aa9-aa18-c6e04291370f",
   "metadata": {},
   "source": [
    "### Step 8: Export new dataframe"
   ]
  },
  {
   "cell_type": "code",
   "execution_count": 256,
   "id": "1c35d9c1-909d-408f-82e6-18ae7ea22f8f",
   "metadata": {},
   "outputs": [],
   "source": [
    "# Export as pkl file\n",
    "df_ords_prods_cust_merged.to_pickle(os.path.join(path, '02 Data','Prepared Data', 'ords_prods_cust_merged.pkl'))"
   ]
  },
  {
   "cell_type": "code",
   "execution_count": null,
   "id": "a75dc8da-a1b9-4f50-93e1-bb4ec5448b8e",
   "metadata": {},
   "outputs": [],
   "source": []
  }
 ],
 "metadata": {
  "kernelspec": {
   "display_name": "Python [conda env:base] *",
   "language": "python",
   "name": "conda-base-py"
  },
  "language_info": {
   "codemirror_mode": {
    "name": "ipython",
    "version": 3
   },
   "file_extension": ".py",
   "mimetype": "text/x-python",
   "name": "python",
   "nbconvert_exporter": "python",
   "pygments_lexer": "ipython3",
   "version": "3.12.7"
  }
 },
 "nbformat": 4,
 "nbformat_minor": 5
}
