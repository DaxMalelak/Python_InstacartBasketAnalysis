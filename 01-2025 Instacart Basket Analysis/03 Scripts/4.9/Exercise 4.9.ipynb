{
 "cells": [
  {
   "cell_type": "markdown",
   "id": "c5ba68a2-35ff-4479-871e-b99be649cdb5",
   "metadata": {},
   "source": [
    "# 4.9: Intro into Data Visualisation with Python"
   ]
  },
  {
   "cell_type": "code",
   "execution_count": 3,
   "id": "0e6f17f1-ed4e-490f-82e4-f30cd3fdc8aa",
   "metadata": {},
   "outputs": [],
   "source": [
    "# Importing libraries\n",
    "import pandas as pd\n",
    "import numpy as np\n",
    "import os\n",
    "import matplotlib.pyplot as plt\n",
    "import seaborn as sns\n",
    "import scipy"
   ]
  },
  {
   "cell_type": "code",
   "execution_count": 5,
   "id": "0b175242-16a5-42e0-8bdb-eed902b2eb26",
   "metadata": {},
   "outputs": [],
   "source": [
    "# Import dataframe\n",
    "path = r'C:\\Users\\daxma\\OneDrive\\Desktop\\Data Analytics\\Data Immersion\\Achievement 4\\01-2025 Instacart Basket Analysis'\n",
    "file_path = os.path.join(path, '02 Data', 'Prepared Data', 'ords_prods_merge_new_cols.pkl')\n",
    "df_ords_prods = pd.read_pickle(file_path)"
   ]
  },
  {
   "cell_type": "code",
   "execution_count": 6,
   "id": "6b71c90b-8bfc-41eb-a407-8b4f5423c926",
   "metadata": {},
   "outputs": [
    {
     "data": {
      "text/html": [
       "<div>\n",
       "<style scoped>\n",
       "    .dataframe tbody tr th:only-of-type {\n",
       "        vertical-align: middle;\n",
       "    }\n",
       "\n",
       "    .dataframe tbody tr th {\n",
       "        vertical-align: top;\n",
       "    }\n",
       "\n",
       "    .dataframe thead th {\n",
       "        text-align: right;\n",
       "    }\n",
       "</style>\n",
       "<table border=\"1\" class=\"dataframe\">\n",
       "  <thead>\n",
       "    <tr style=\"text-align: right;\">\n",
       "      <th></th>\n",
       "      <th>order_id</th>\n",
       "      <th>user_id</th>\n",
       "      <th>order_number</th>\n",
       "      <th>orders_day_of_week</th>\n",
       "      <th>order_hour_of_day</th>\n",
       "      <th>days_since_prior_order</th>\n",
       "      <th>first_order_flag</th>\n",
       "      <th>product_id</th>\n",
       "      <th>add_to_cart_order</th>\n",
       "      <th>reordered</th>\n",
       "      <th>...</th>\n",
       "      <th>busiest_days</th>\n",
       "      <th>busiest_period_of_day</th>\n",
       "      <th>max_order</th>\n",
       "      <th>loyalty_flag</th>\n",
       "      <th>avg_product_price</th>\n",
       "      <th>product_spending_flag</th>\n",
       "      <th>avg_order_spending</th>\n",
       "      <th>order_spending_flag</th>\n",
       "      <th>median_days_since_prior_order</th>\n",
       "      <th>order_freq_flag</th>\n",
       "    </tr>\n",
       "  </thead>\n",
       "  <tbody>\n",
       "    <tr>\n",
       "      <th>0</th>\n",
       "      <td>2539329</td>\n",
       "      <td>1</td>\n",
       "      <td>1</td>\n",
       "      <td>2</td>\n",
       "      <td>8</td>\n",
       "      <td>NaN</td>\n",
       "      <td>1</td>\n",
       "      <td>196</td>\n",
       "      <td>1</td>\n",
       "      <td>0</td>\n",
       "      <td>...</td>\n",
       "      <td>Regularly busy</td>\n",
       "      <td>Average orders</td>\n",
       "      <td>10</td>\n",
       "      <td>New customer</td>\n",
       "      <td>6.367797</td>\n",
       "      <td>Low product spender</td>\n",
       "      <td>37.57</td>\n",
       "      <td>Low order spender</td>\n",
       "      <td>20.5</td>\n",
       "      <td>Non-frequent customer</td>\n",
       "    </tr>\n",
       "    <tr>\n",
       "      <th>1</th>\n",
       "      <td>2539329</td>\n",
       "      <td>1</td>\n",
       "      <td>1</td>\n",
       "      <td>2</td>\n",
       "      <td>8</td>\n",
       "      <td>NaN</td>\n",
       "      <td>1</td>\n",
       "      <td>14084</td>\n",
       "      <td>2</td>\n",
       "      <td>0</td>\n",
       "      <td>...</td>\n",
       "      <td>Regularly busy</td>\n",
       "      <td>Average orders</td>\n",
       "      <td>10</td>\n",
       "      <td>New customer</td>\n",
       "      <td>6.367797</td>\n",
       "      <td>Low product spender</td>\n",
       "      <td>37.57</td>\n",
       "      <td>Low order spender</td>\n",
       "      <td>20.5</td>\n",
       "      <td>Non-frequent customer</td>\n",
       "    </tr>\n",
       "    <tr>\n",
       "      <th>2</th>\n",
       "      <td>2539329</td>\n",
       "      <td>1</td>\n",
       "      <td>1</td>\n",
       "      <td>2</td>\n",
       "      <td>8</td>\n",
       "      <td>NaN</td>\n",
       "      <td>1</td>\n",
       "      <td>12427</td>\n",
       "      <td>3</td>\n",
       "      <td>0</td>\n",
       "      <td>...</td>\n",
       "      <td>Regularly busy</td>\n",
       "      <td>Average orders</td>\n",
       "      <td>10</td>\n",
       "      <td>New customer</td>\n",
       "      <td>6.367797</td>\n",
       "      <td>Low product spender</td>\n",
       "      <td>37.57</td>\n",
       "      <td>Low order spender</td>\n",
       "      <td>20.5</td>\n",
       "      <td>Non-frequent customer</td>\n",
       "    </tr>\n",
       "    <tr>\n",
       "      <th>3</th>\n",
       "      <td>2539329</td>\n",
       "      <td>1</td>\n",
       "      <td>1</td>\n",
       "      <td>2</td>\n",
       "      <td>8</td>\n",
       "      <td>NaN</td>\n",
       "      <td>1</td>\n",
       "      <td>26088</td>\n",
       "      <td>4</td>\n",
       "      <td>0</td>\n",
       "      <td>...</td>\n",
       "      <td>Regularly busy</td>\n",
       "      <td>Average orders</td>\n",
       "      <td>10</td>\n",
       "      <td>New customer</td>\n",
       "      <td>6.367797</td>\n",
       "      <td>Low product spender</td>\n",
       "      <td>37.57</td>\n",
       "      <td>Low order spender</td>\n",
       "      <td>20.5</td>\n",
       "      <td>Non-frequent customer</td>\n",
       "    </tr>\n",
       "    <tr>\n",
       "      <th>4</th>\n",
       "      <td>2539329</td>\n",
       "      <td>1</td>\n",
       "      <td>1</td>\n",
       "      <td>2</td>\n",
       "      <td>8</td>\n",
       "      <td>NaN</td>\n",
       "      <td>1</td>\n",
       "      <td>26405</td>\n",
       "      <td>5</td>\n",
       "      <td>0</td>\n",
       "      <td>...</td>\n",
       "      <td>Regularly busy</td>\n",
       "      <td>Average orders</td>\n",
       "      <td>10</td>\n",
       "      <td>New customer</td>\n",
       "      <td>6.367797</td>\n",
       "      <td>Low product spender</td>\n",
       "      <td>37.57</td>\n",
       "      <td>Low order spender</td>\n",
       "      <td>20.5</td>\n",
       "      <td>Non-frequent customer</td>\n",
       "    </tr>\n",
       "    <tr>\n",
       "      <th>5</th>\n",
       "      <td>2398795</td>\n",
       "      <td>1</td>\n",
       "      <td>2</td>\n",
       "      <td>3</td>\n",
       "      <td>7</td>\n",
       "      <td>15.0</td>\n",
       "      <td>0</td>\n",
       "      <td>196</td>\n",
       "      <td>1</td>\n",
       "      <td>1</td>\n",
       "      <td>...</td>\n",
       "      <td>Slowest days</td>\n",
       "      <td>Average orders</td>\n",
       "      <td>10</td>\n",
       "      <td>New customer</td>\n",
       "      <td>6.367797</td>\n",
       "      <td>Low product spender</td>\n",
       "      <td>37.57</td>\n",
       "      <td>Low order spender</td>\n",
       "      <td>20.5</td>\n",
       "      <td>Non-frequent customer</td>\n",
       "    </tr>\n",
       "    <tr>\n",
       "      <th>6</th>\n",
       "      <td>2398795</td>\n",
       "      <td>1</td>\n",
       "      <td>2</td>\n",
       "      <td>3</td>\n",
       "      <td>7</td>\n",
       "      <td>15.0</td>\n",
       "      <td>0</td>\n",
       "      <td>10258</td>\n",
       "      <td>2</td>\n",
       "      <td>0</td>\n",
       "      <td>...</td>\n",
       "      <td>Slowest days</td>\n",
       "      <td>Average orders</td>\n",
       "      <td>10</td>\n",
       "      <td>New customer</td>\n",
       "      <td>6.367797</td>\n",
       "      <td>Low product spender</td>\n",
       "      <td>37.57</td>\n",
       "      <td>Low order spender</td>\n",
       "      <td>20.5</td>\n",
       "      <td>Non-frequent customer</td>\n",
       "    </tr>\n",
       "    <tr>\n",
       "      <th>7</th>\n",
       "      <td>2398795</td>\n",
       "      <td>1</td>\n",
       "      <td>2</td>\n",
       "      <td>3</td>\n",
       "      <td>7</td>\n",
       "      <td>15.0</td>\n",
       "      <td>0</td>\n",
       "      <td>12427</td>\n",
       "      <td>3</td>\n",
       "      <td>1</td>\n",
       "      <td>...</td>\n",
       "      <td>Slowest days</td>\n",
       "      <td>Average orders</td>\n",
       "      <td>10</td>\n",
       "      <td>New customer</td>\n",
       "      <td>6.367797</td>\n",
       "      <td>Low product spender</td>\n",
       "      <td>37.57</td>\n",
       "      <td>Low order spender</td>\n",
       "      <td>20.5</td>\n",
       "      <td>Non-frequent customer</td>\n",
       "    </tr>\n",
       "    <tr>\n",
       "      <th>8</th>\n",
       "      <td>2398795</td>\n",
       "      <td>1</td>\n",
       "      <td>2</td>\n",
       "      <td>3</td>\n",
       "      <td>7</td>\n",
       "      <td>15.0</td>\n",
       "      <td>0</td>\n",
       "      <td>13176</td>\n",
       "      <td>4</td>\n",
       "      <td>0</td>\n",
       "      <td>...</td>\n",
       "      <td>Slowest days</td>\n",
       "      <td>Average orders</td>\n",
       "      <td>10</td>\n",
       "      <td>New customer</td>\n",
       "      <td>6.367797</td>\n",
       "      <td>Low product spender</td>\n",
       "      <td>37.57</td>\n",
       "      <td>Low order spender</td>\n",
       "      <td>20.5</td>\n",
       "      <td>Non-frequent customer</td>\n",
       "    </tr>\n",
       "    <tr>\n",
       "      <th>9</th>\n",
       "      <td>2398795</td>\n",
       "      <td>1</td>\n",
       "      <td>2</td>\n",
       "      <td>3</td>\n",
       "      <td>7</td>\n",
       "      <td>15.0</td>\n",
       "      <td>0</td>\n",
       "      <td>26088</td>\n",
       "      <td>5</td>\n",
       "      <td>1</td>\n",
       "      <td>...</td>\n",
       "      <td>Slowest days</td>\n",
       "      <td>Average orders</td>\n",
       "      <td>10</td>\n",
       "      <td>New customer</td>\n",
       "      <td>6.367797</td>\n",
       "      <td>Low product spender</td>\n",
       "      <td>37.57</td>\n",
       "      <td>Low order spender</td>\n",
       "      <td>20.5</td>\n",
       "      <td>Non-frequent customer</td>\n",
       "    </tr>\n",
       "  </tbody>\n",
       "</table>\n",
       "<p>10 rows × 26 columns</p>\n",
       "</div>"
      ],
      "text/plain": [
       "   order_id  user_id  order_number  orders_day_of_week  order_hour_of_day  \\\n",
       "0   2539329        1             1                   2                  8   \n",
       "1   2539329        1             1                   2                  8   \n",
       "2   2539329        1             1                   2                  8   \n",
       "3   2539329        1             1                   2                  8   \n",
       "4   2539329        1             1                   2                  8   \n",
       "5   2398795        1             2                   3                  7   \n",
       "6   2398795        1             2                   3                  7   \n",
       "7   2398795        1             2                   3                  7   \n",
       "8   2398795        1             2                   3                  7   \n",
       "9   2398795        1             2                   3                  7   \n",
       "\n",
       "   days_since_prior_order  first_order_flag  product_id  add_to_cart_order  \\\n",
       "0                     NaN                 1         196                  1   \n",
       "1                     NaN                 1       14084                  2   \n",
       "2                     NaN                 1       12427                  3   \n",
       "3                     NaN                 1       26088                  4   \n",
       "4                     NaN                 1       26405                  5   \n",
       "5                    15.0                 0         196                  1   \n",
       "6                    15.0                 0       10258                  2   \n",
       "7                    15.0                 0       12427                  3   \n",
       "8                    15.0                 0       13176                  4   \n",
       "9                    15.0                 0       26088                  5   \n",
       "\n",
       "   reordered  ...    busiest_days  busiest_period_of_day  max_order  \\\n",
       "0          0  ...  Regularly busy         Average orders         10   \n",
       "1          0  ...  Regularly busy         Average orders         10   \n",
       "2          0  ...  Regularly busy         Average orders         10   \n",
       "3          0  ...  Regularly busy         Average orders         10   \n",
       "4          0  ...  Regularly busy         Average orders         10   \n",
       "5          1  ...    Slowest days         Average orders         10   \n",
       "6          0  ...    Slowest days         Average orders         10   \n",
       "7          1  ...    Slowest days         Average orders         10   \n",
       "8          0  ...    Slowest days         Average orders         10   \n",
       "9          1  ...    Slowest days         Average orders         10   \n",
       "\n",
       "   loyalty_flag avg_product_price product_spending_flag avg_order_spending  \\\n",
       "0  New customer          6.367797   Low product spender              37.57   \n",
       "1  New customer          6.367797   Low product spender              37.57   \n",
       "2  New customer          6.367797   Low product spender              37.57   \n",
       "3  New customer          6.367797   Low product spender              37.57   \n",
       "4  New customer          6.367797   Low product spender              37.57   \n",
       "5  New customer          6.367797   Low product spender              37.57   \n",
       "6  New customer          6.367797   Low product spender              37.57   \n",
       "7  New customer          6.367797   Low product spender              37.57   \n",
       "8  New customer          6.367797   Low product spender              37.57   \n",
       "9  New customer          6.367797   Low product spender              37.57   \n",
       "\n",
       "  order_spending_flag  median_days_since_prior_order        order_freq_flag  \n",
       "0   Low order spender                           20.5  Non-frequent customer  \n",
       "1   Low order spender                           20.5  Non-frequent customer  \n",
       "2   Low order spender                           20.5  Non-frequent customer  \n",
       "3   Low order spender                           20.5  Non-frequent customer  \n",
       "4   Low order spender                           20.5  Non-frequent customer  \n",
       "5   Low order spender                           20.5  Non-frequent customer  \n",
       "6   Low order spender                           20.5  Non-frequent customer  \n",
       "7   Low order spender                           20.5  Non-frequent customer  \n",
       "8   Low order spender                           20.5  Non-frequent customer  \n",
       "9   Low order spender                           20.5  Non-frequent customer  \n",
       "\n",
       "[10 rows x 26 columns]"
      ]
     },
     "execution_count": 6,
     "metadata": {},
     "output_type": "execute_result"
    }
   ],
   "source": [
    "# Check output\n",
    "df_ords_prods.head(10)"
   ]
  },
  {
   "cell_type": "markdown",
   "id": "8cdd08aa-8824-4b02-aeae-b2e1f19bcddf",
   "metadata": {},
   "source": [
    "### Bar Charts"
   ]
  },
  {
   "cell_type": "code",
   "execution_count": 9,
   "id": "bc77a950-4f1d-406f-8109-f2386ac19a52",
   "metadata": {},
   "outputs": [
    {
     "data": {
      "text/plain": [
       "<Axes: xlabel='orders_day_of_week'>"
      ]
     },
     "execution_count": 9,
     "metadata": {},
     "output_type": "execute_result"
    },
    {
     "data": {
      "image/png": "[encoded data removed]",
      "text/plain": [
       "<Figure size 640x480 with 1 Axes>"
      ]
     },
     "metadata": {},
     "output_type": "display_data"
    }
   ],
   "source": [
    "# Creating order day of week bar chart\n",
    "df_ords_prods['orders_day_of_week'].value_counts().plot.bar()"
   ]
  },
  {
   "cell_type": "code",
   "execution_count": 17,
   "id": "9c3d1733-29d5-47a3-a5dd-8ee51ec40c6a",
   "metadata": {},
   "outputs": [
    {
     "data": {
      "image/png": "[encoded data removed]",
      "text/plain": [
       "<Figure size 640x480 with 1 Axes>"
      ]
     },
     "metadata": {},
     "output_type": "display_data"
    }
   ],
   "source": [
    "# Save bar chart within bar object\n",
    "bar = df_ords_prods['orders_day_of_week'].value_counts().plot.bar()"
   ]
  },
  {
   "cell_type": "code",
   "execution_count": 19,
   "id": "644022b1-5435-455e-b0af-a476c29e7cd8",
   "metadata": {},
   "outputs": [],
   "source": [
    "# Export bar chart as image file \n",
    "bar.figure.savefig(os.path.join(path, '04 Analysis', 'Visualisations', 'bar_orders_dow.png'))"
   ]
  },
  {
   "cell_type": "markdown",
   "id": "5423d534-91ed-48a3-8276-6e3d5ad7a728",
   "metadata": {},
   "source": [
    "### Histograms and Scatterplots"
   ]
  },
  {
   "cell_type": "code",
   "execution_count": 21,
   "id": "4ced1752-e29b-4194-bc55-0ebf9d72da76",
   "metadata": {},
   "outputs": [
    {
     "data": {
      "text/plain": [
       "<Axes: ylabel='Frequency'>"
      ]
     },
     "execution_count": 21,
     "metadata": {},
     "output_type": "execute_result"
    },
    {
     "data": {
      "image/png": "[encoded data removed]",
      "text/plain": [
       "<Figure size 640x480 with 1 Axes>"
      ]
     },
     "metadata": {},
     "output_type": "display_data"
    }
   ],
   "source": [
    "# Create prices histogram\n",
    "df_ords_prods['prices'].plot.hist(bins = 25)"
   ]
  },
  {
   "cell_type": "code",
   "execution_count": 26,
   "id": "2c66ca38-2f98-4222-be89-3f729c8a2a02",
   "metadata": {},
   "outputs": [
    {
     "data": {
      "text/plain": [
       "99999.0"
      ]
     },
     "execution_count": 26,
     "metadata": {},
     "output_type": "execute_result"
    }
   ],
   "source": [
    "# Data integrity check on max price value\n",
    "df_ords_prods['prices'].max()"
   ]
  },
  {
   "cell_type": "code",
   "execution_count": 28,
   "id": "a1be539f-494a-4e47-9899-253fb000d366",
   "metadata": {},
   "outputs": [
    {
     "data": {
      "text/plain": [
       "<Axes: xlabel='prices', ylabel='prices'>"
      ]
     },
     "execution_count": 28,
     "metadata": {},
     "output_type": "execute_result"
    },
    {
     "data": {
      "image/png": "[encoded data removed]",
      "text/plain": [
       "<Figure size 640x480 with 1 Axes>"
      ]
     },
     "metadata": {},
     "output_type": "display_data"
    }
   ],
   "source": [
    "# Check outliers in price column with scatterplot\n",
    "sns.scatterplot(x = 'prices', y = 'prices', data = df_ords_prods)"
   ]
  },
  {
   "cell_type": "code",
   "execution_count": 30,
   "id": "6ca4d8fc-5752-4aea-8368-a4454bdb3e40",
   "metadata": {},
   "outputs": [
    {
     "data": {
      "text/html": [
       "<div>\n",
       "<style scoped>\n",
       "    .dataframe tbody tr th:only-of-type {\n",
       "        vertical-align: middle;\n",
       "    }\n",
       "\n",
       "    .dataframe tbody tr th {\n",
       "        vertical-align: top;\n",
       "    }\n",
       "\n",
       "    .dataframe thead th {\n",
       "        text-align: right;\n",
       "    }\n",
       "</style>\n",
       "<table border=\"1\" class=\"dataframe\">\n",
       "  <thead>\n",
       "    <tr style=\"text-align: right;\">\n",
       "      <th></th>\n",
       "      <th>order_id</th>\n",
       "      <th>user_id</th>\n",
       "      <th>order_number</th>\n",
       "      <th>orders_day_of_week</th>\n",
       "      <th>order_hour_of_day</th>\n",
       "      <th>days_since_prior_order</th>\n",
       "      <th>first_order_flag</th>\n",
       "      <th>product_id</th>\n",
       "      <th>add_to_cart_order</th>\n",
       "      <th>reordered</th>\n",
       "      <th>...</th>\n",
       "      <th>busiest_days</th>\n",
       "      <th>busiest_period_of_day</th>\n",
       "      <th>max_order</th>\n",
       "      <th>loyalty_flag</th>\n",
       "      <th>avg_product_price</th>\n",
       "      <th>product_spending_flag</th>\n",
       "      <th>avg_order_spending</th>\n",
       "      <th>order_spending_flag</th>\n",
       "      <th>median_days_since_prior_order</th>\n",
       "      <th>order_freq_flag</th>\n",
       "    </tr>\n",
       "  </thead>\n",
       "  <tbody>\n",
       "    <tr>\n",
       "      <th>1576</th>\n",
       "      <td>912404</td>\n",
       "      <td>17</td>\n",
       "      <td>12</td>\n",
       "      <td>2</td>\n",
       "      <td>14</td>\n",
       "      <td>5.0</td>\n",
       "      <td>0</td>\n",
       "      <td>21553</td>\n",
       "      <td>5</td>\n",
       "      <td>0</td>\n",
       "      <td>...</td>\n",
       "      <td>Regularly busy</td>\n",
       "      <td>Most orders</td>\n",
       "      <td>40</td>\n",
       "      <td>Regular customer</td>\n",
       "      <td>108.648299</td>\n",
       "      <td>High product spender</td>\n",
       "      <td>798.56500</td>\n",
       "      <td>High order spender</td>\n",
       "      <td>5.0</td>\n",
       "      <td>Frequent customer</td>\n",
       "    </tr>\n",
       "    <tr>\n",
       "      <th>1638</th>\n",
       "      <td>603376</td>\n",
       "      <td>17</td>\n",
       "      <td>22</td>\n",
       "      <td>6</td>\n",
       "      <td>16</td>\n",
       "      <td>4.0</td>\n",
       "      <td>0</td>\n",
       "      <td>21553</td>\n",
       "      <td>3</td>\n",
       "      <td>1</td>\n",
       "      <td>...</td>\n",
       "      <td>Regularly busy</td>\n",
       "      <td>Average orders</td>\n",
       "      <td>40</td>\n",
       "      <td>Regular customer</td>\n",
       "      <td>108.648299</td>\n",
       "      <td>High product spender</td>\n",
       "      <td>798.56500</td>\n",
       "      <td>High order spender</td>\n",
       "      <td>5.0</td>\n",
       "      <td>Frequent customer</td>\n",
       "    </tr>\n",
       "    <tr>\n",
       "      <th>16522</th>\n",
       "      <td>3264360</td>\n",
       "      <td>135</td>\n",
       "      <td>2</td>\n",
       "      <td>2</td>\n",
       "      <td>21</td>\n",
       "      <td>13.0</td>\n",
       "      <td>0</td>\n",
       "      <td>21553</td>\n",
       "      <td>6</td>\n",
       "      <td>0</td>\n",
       "      <td>...</td>\n",
       "      <td>Regularly busy</td>\n",
       "      <td>Average orders</td>\n",
       "      <td>4</td>\n",
       "      <td>New customer</td>\n",
       "      <td>1154.792308</td>\n",
       "      <td>High product spender</td>\n",
       "      <td>7506.15000</td>\n",
       "      <td>Value Error</td>\n",
       "      <td>12.0</td>\n",
       "      <td>Regular customer</td>\n",
       "    </tr>\n",
       "    <tr>\n",
       "      <th>16528</th>\n",
       "      <td>892534</td>\n",
       "      <td>135</td>\n",
       "      <td>3</td>\n",
       "      <td>0</td>\n",
       "      <td>8</td>\n",
       "      <td>12.0</td>\n",
       "      <td>0</td>\n",
       "      <td>21553</td>\n",
       "      <td>3</td>\n",
       "      <td>1</td>\n",
       "      <td>...</td>\n",
       "      <td>Busiest days</td>\n",
       "      <td>Average orders</td>\n",
       "      <td>4</td>\n",
       "      <td>New customer</td>\n",
       "      <td>1154.792308</td>\n",
       "      <td>High product spender</td>\n",
       "      <td>7506.15000</td>\n",
       "      <td>Value Error</td>\n",
       "      <td>12.0</td>\n",
       "      <td>Regular customer</td>\n",
       "    </tr>\n",
       "    <tr>\n",
       "      <th>53672</th>\n",
       "      <td>229704</td>\n",
       "      <td>342</td>\n",
       "      <td>8</td>\n",
       "      <td>1</td>\n",
       "      <td>19</td>\n",
       "      <td>30.0</td>\n",
       "      <td>0</td>\n",
       "      <td>21553</td>\n",
       "      <td>9</td>\n",
       "      <td>0</td>\n",
       "      <td>...</td>\n",
       "      <td>Busiest days</td>\n",
       "      <td>Average orders</td>\n",
       "      <td>16</td>\n",
       "      <td>Regular customer</td>\n",
       "      <td>114.426619</td>\n",
       "      <td>High product spender</td>\n",
       "      <td>994.08125</td>\n",
       "      <td>High order spender</td>\n",
       "      <td>23.0</td>\n",
       "      <td>Non-frequent customer</td>\n",
       "    </tr>\n",
       "    <tr>\n",
       "      <th>...</th>\n",
       "      <td>...</td>\n",
       "      <td>...</td>\n",
       "      <td>...</td>\n",
       "      <td>...</td>\n",
       "      <td>...</td>\n",
       "      <td>...</td>\n",
       "      <td>...</td>\n",
       "      <td>...</td>\n",
       "      <td>...</td>\n",
       "      <td>...</td>\n",
       "      <td>...</td>\n",
       "      <td>...</td>\n",
       "      <td>...</td>\n",
       "      <td>...</td>\n",
       "      <td>...</td>\n",
       "      <td>...</td>\n",
       "      <td>...</td>\n",
       "      <td>...</td>\n",
       "      <td>...</td>\n",
       "      <td>...</td>\n",
       "      <td>...</td>\n",
       "    </tr>\n",
       "    <tr>\n",
       "      <th>32320511</th>\n",
       "      <td>3172853</td>\n",
       "      <td>205650</td>\n",
       "      <td>18</td>\n",
       "      <td>1</td>\n",
       "      <td>9</td>\n",
       "      <td>7.0</td>\n",
       "      <td>0</td>\n",
       "      <td>21553</td>\n",
       "      <td>17</td>\n",
       "      <td>1</td>\n",
       "      <td>...</td>\n",
       "      <td>Busiest days</td>\n",
       "      <td>Average orders</td>\n",
       "      <td>25</td>\n",
       "      <td>Regular customer</td>\n",
       "      <td>351.141618</td>\n",
       "      <td>High product spender</td>\n",
       "      <td>4859.80000</td>\n",
       "      <td>High order spender</td>\n",
       "      <td>6.0</td>\n",
       "      <td>Frequent customer</td>\n",
       "    </tr>\n",
       "    <tr>\n",
       "      <th>32347717</th>\n",
       "      <td>2504315</td>\n",
       "      <td>205818</td>\n",
       "      <td>3</td>\n",
       "      <td>5</td>\n",
       "      <td>15</td>\n",
       "      <td>3.0</td>\n",
       "      <td>0</td>\n",
       "      <td>21553</td>\n",
       "      <td>13</td>\n",
       "      <td>0</td>\n",
       "      <td>...</td>\n",
       "      <td>Regularly busy</td>\n",
       "      <td>Most orders</td>\n",
       "      <td>25</td>\n",
       "      <td>Regular customer</td>\n",
       "      <td>170.073770</td>\n",
       "      <td>High product spender</td>\n",
       "      <td>1244.94000</td>\n",
       "      <td>High order spender</td>\n",
       "      <td>13.0</td>\n",
       "      <td>Regular customer</td>\n",
       "    </tr>\n",
       "    <tr>\n",
       "      <th>32347727</th>\n",
       "      <td>1108388</td>\n",
       "      <td>205818</td>\n",
       "      <td>5</td>\n",
       "      <td>4</td>\n",
       "      <td>5</td>\n",
       "      <td>1.0</td>\n",
       "      <td>0</td>\n",
       "      <td>21553</td>\n",
       "      <td>5</td>\n",
       "      <td>1</td>\n",
       "      <td>...</td>\n",
       "      <td>Slowest days</td>\n",
       "      <td>Fewest orders</td>\n",
       "      <td>25</td>\n",
       "      <td>Regular customer</td>\n",
       "      <td>170.073770</td>\n",
       "      <td>High product spender</td>\n",
       "      <td>1244.94000</td>\n",
       "      <td>High order spender</td>\n",
       "      <td>13.0</td>\n",
       "      <td>Regular customer</td>\n",
       "    </tr>\n",
       "    <tr>\n",
       "      <th>32380527</th>\n",
       "      <td>1916142</td>\n",
       "      <td>206049</td>\n",
       "      <td>1</td>\n",
       "      <td>2</td>\n",
       "      <td>17</td>\n",
       "      <td>NaN</td>\n",
       "      <td>1</td>\n",
       "      <td>21553</td>\n",
       "      <td>2</td>\n",
       "      <td>0</td>\n",
       "      <td>...</td>\n",
       "      <td>Regularly busy</td>\n",
       "      <td>Average orders</td>\n",
       "      <td>5</td>\n",
       "      <td>New customer</td>\n",
       "      <td>938.031250</td>\n",
       "      <td>High product spender</td>\n",
       "      <td>6003.40000</td>\n",
       "      <td>Value Error</td>\n",
       "      <td>7.0</td>\n",
       "      <td>Frequent customer</td>\n",
       "    </tr>\n",
       "    <tr>\n",
       "      <th>32380551</th>\n",
       "      <td>379732</td>\n",
       "      <td>206049</td>\n",
       "      <td>4</td>\n",
       "      <td>1</td>\n",
       "      <td>14</td>\n",
       "      <td>5.0</td>\n",
       "      <td>0</td>\n",
       "      <td>21553</td>\n",
       "      <td>4</td>\n",
       "      <td>1</td>\n",
       "      <td>...</td>\n",
       "      <td>Busiest days</td>\n",
       "      <td>Most orders</td>\n",
       "      <td>5</td>\n",
       "      <td>New customer</td>\n",
       "      <td>938.031250</td>\n",
       "      <td>High product spender</td>\n",
       "      <td>6003.40000</td>\n",
       "      <td>Value Error</td>\n",
       "      <td>7.0</td>\n",
       "      <td>Frequent customer</td>\n",
       "    </tr>\n",
       "  </tbody>\n",
       "</table>\n",
       "<p>5127 rows × 26 columns</p>\n",
       "</div>"
      ],
      "text/plain": [
       "          order_id  user_id  order_number  orders_day_of_week  \\\n",
       "1576        912404       17            12                   2   \n",
       "1638        603376       17            22                   6   \n",
       "16522      3264360      135             2                   2   \n",
       "16528       892534      135             3                   0   \n",
       "53672       229704      342             8                   1   \n",
       "...            ...      ...           ...                 ...   \n",
       "32320511   3172853   205650            18                   1   \n",
       "32347717   2504315   205818             3                   5   \n",
       "32347727   1108388   205818             5                   4   \n",
       "32380527   1916142   206049             1                   2   \n",
       "32380551    379732   206049             4                   1   \n",
       "\n",
       "          order_hour_of_day  days_since_prior_order  first_order_flag  \\\n",
       "1576                     14                     5.0                 0   \n",
       "1638                     16                     4.0                 0   \n",
       "16522                    21                    13.0                 0   \n",
       "16528                     8                    12.0                 0   \n",
       "53672                    19                    30.0                 0   \n",
       "...                     ...                     ...               ...   \n",
       "32320511                  9                     7.0                 0   \n",
       "32347717                 15                     3.0                 0   \n",
       "32347727                  5                     1.0                 0   \n",
       "32380527                 17                     NaN                 1   \n",
       "32380551                 14                     5.0                 0   \n",
       "\n",
       "          product_id  add_to_cart_order  reordered  ...    busiest_days  \\\n",
       "1576           21553                  5          0  ...  Regularly busy   \n",
       "1638           21553                  3          1  ...  Regularly busy   \n",
       "16522          21553                  6          0  ...  Regularly busy   \n",
       "16528          21553                  3          1  ...    Busiest days   \n",
       "53672          21553                  9          0  ...    Busiest days   \n",
       "...              ...                ...        ...  ...             ...   \n",
       "32320511       21553                 17          1  ...    Busiest days   \n",
       "32347717       21553                 13          0  ...  Regularly busy   \n",
       "32347727       21553                  5          1  ...    Slowest days   \n",
       "32380527       21553                  2          0  ...  Regularly busy   \n",
       "32380551       21553                  4          1  ...    Busiest days   \n",
       "\n",
       "          busiest_period_of_day  max_order      loyalty_flag  \\\n",
       "1576                Most orders         40  Regular customer   \n",
       "1638             Average orders         40  Regular customer   \n",
       "16522            Average orders          4      New customer   \n",
       "16528            Average orders          4      New customer   \n",
       "53672            Average orders         16  Regular customer   \n",
       "...                         ...        ...               ...   \n",
       "32320511         Average orders         25  Regular customer   \n",
       "32347717            Most orders         25  Regular customer   \n",
       "32347727          Fewest orders         25  Regular customer   \n",
       "32380527         Average orders          5      New customer   \n",
       "32380551            Most orders          5      New customer   \n",
       "\n",
       "         avg_product_price product_spending_flag avg_order_spending  \\\n",
       "1576            108.648299  High product spender          798.56500   \n",
       "1638            108.648299  High product spender          798.56500   \n",
       "16522          1154.792308  High product spender         7506.15000   \n",
       "16528          1154.792308  High product spender         7506.15000   \n",
       "53672           114.426619  High product spender          994.08125   \n",
       "...                    ...                   ...                ...   \n",
       "32320511        351.141618  High product spender         4859.80000   \n",
       "32347717        170.073770  High product spender         1244.94000   \n",
       "32347727        170.073770  High product spender         1244.94000   \n",
       "32380527        938.031250  High product spender         6003.40000   \n",
       "32380551        938.031250  High product spender         6003.40000   \n",
       "\n",
       "         order_spending_flag  median_days_since_prior_order  \\\n",
       "1576      High order spender                            5.0   \n",
       "1638      High order spender                            5.0   \n",
       "16522            Value Error                           12.0   \n",
       "16528            Value Error                           12.0   \n",
       "53672     High order spender                           23.0   \n",
       "...                      ...                            ...   \n",
       "32320511  High order spender                            6.0   \n",
       "32347717  High order spender                           13.0   \n",
       "32347727  High order spender                           13.0   \n",
       "32380527         Value Error                            7.0   \n",
       "32380551         Value Error                            7.0   \n",
       "\n",
       "                order_freq_flag  \n",
       "1576          Frequent customer  \n",
       "1638          Frequent customer  \n",
       "16522          Regular customer  \n",
       "16528          Regular customer  \n",
       "53672     Non-frequent customer  \n",
       "...                         ...  \n",
       "32320511      Frequent customer  \n",
       "32347717       Regular customer  \n",
       "32347727       Regular customer  \n",
       "32380527      Frequent customer  \n",
       "32380551      Frequent customer  \n",
       "\n",
       "[5127 rows x 26 columns]"
      ]
     },
     "execution_count": 30,
     "metadata": {},
     "output_type": "execute_result"
    }
   ],
   "source": [
    "# Check prices above $100\n",
    "df_ords_prods.loc[df_ords_prods['prices'] > 100]"
   ]
  },
  {
   "cell_type": "code",
   "execution_count": 32,
   "id": "3d830a62-e12a-4e53-a19e-a0eefc2e9179",
   "metadata": {},
   "outputs": [],
   "source": [
    "# Mark outlier price values as missing\n",
    "df_ords_prods.loc[df_ords_prods['prices'] > 100, 'prices'] = np.nan"
   ]
  },
  {
   "cell_type": "code",
   "execution_count": 34,
   "id": "d3ee5180-52de-4ea2-adde-a36205a2ae62",
   "metadata": {},
   "outputs": [
    {
     "data": {
      "text/plain": [
       "25.0"
      ]
     },
     "execution_count": 34,
     "metadata": {},
     "output_type": "execute_result"
    }
   ],
   "source": [
    "# Max value check on prices column\n",
    "df_ords_prods['prices'].max()"
   ]
  },
  {
   "cell_type": "code",
   "execution_count": 38,
   "id": "66eb9c20-eb94-4e4d-b1ea-ea3c896765da",
   "metadata": {},
   "outputs": [
    {
     "data": {
      "image/png": "[encoded data removed]",
      "text/plain": [
       "<Figure size 640x480 with 1 Axes>"
      ]
     },
     "metadata": {},
     "output_type": "display_data"
    }
   ],
   "source": [
    "# Creating new prices histogram\n",
    "hist = df_ords_prods['prices'].plot.hist(bins = 70)"
   ]
  },
  {
   "cell_type": "code",
   "execution_count": 40,
   "id": "43a25781-d354-49fe-b9dd-3d0f01d86a44",
   "metadata": {},
   "outputs": [],
   "source": [
    "# Export histogram as image file \n",
    "hist.figure.savefig(os.path.join(path, '04 Analysis', 'Visualisations', 'hist_product_prices.png'))"
   ]
  },
  {
   "cell_type": "markdown",
   "id": "30691415-4147-4d29-acb1-6c9c17d8f01e",
   "metadata": {},
   "source": [
    "### Data Sampling"
   ]
  },
  {
   "cell_type": "code",
   "execution_count": 48,
   "id": "ea6eff82-37c3-47b0-8803-31a33e3926df",
   "metadata": {},
   "outputs": [],
   "source": [
    "# Setting the seed and dev\n",
    "np.random.seed(4)\n",
    "dev = np.random.rand(len(df_ords_prods)) <= 0.7"
   ]
  },
  {
   "cell_type": "code",
   "execution_count": 50,
   "id": "ab0c77c8-74f5-4bc4-9e3f-36f37be2aecf",
   "metadata": {},
   "outputs": [
    {
     "data": {
      "text/plain": [
       "array([False,  True, False, ...,  True,  True,  True])"
      ]
     },
     "execution_count": 50,
     "metadata": {},
     "output_type": "execute_result"
    }
   ],
   "source": [
    "# Check dev ouput\n",
    "dev"
   ]
  },
  {
   "cell_type": "code",
   "execution_count": 55,
   "id": "535d657d-3271-4519-925d-e6f82dc2acfc",
   "metadata": {},
   "outputs": [],
   "source": [
    "# Store 70% of sameple in big df\n",
    "big = df_ords_prods[dev]"
   ]
  },
  {
   "cell_type": "code",
   "execution_count": 56,
   "id": "24a56e1c-79d4-41c9-be7c-f549af8dfd17",
   "metadata": {},
   "outputs": [],
   "source": [
    "# Store 30% of sample in small df\n",
    "small = df_ords_prods[~dev]"
   ]
  },
  {
   "cell_type": "code",
   "execution_count": 59,
   "id": "ef9fe698-ada7-4602-9c1b-dd181cc4e0d7",
   "metadata": {},
   "outputs": [
    {
     "data": {
      "text/plain": [
       "32404859"
      ]
     },
     "execution_count": 59,
     "metadata": {},
     "output_type": "execute_result"
    }
   ],
   "source": [
    "# Check df's add up to total rows\n",
    "len(df_ords_prods)"
   ]
  },
  {
   "cell_type": "code",
   "execution_count": 61,
   "id": "190ec12d-aa41-4956-969a-40a0b7d6a829",
   "metadata": {},
   "outputs": [
    {
     "data": {
      "text/plain": [
       "32404859"
      ]
     },
     "execution_count": 61,
     "metadata": {},
     "output_type": "execute_result"
    }
   ],
   "source": [
    "# Add small and big df's\n",
    "len(big) + len(small)"
   ]
  },
  {
   "cell_type": "code",
   "execution_count": 63,
   "id": "da171876-b586-4864-9e6c-efa05f764682",
   "metadata": {},
   "outputs": [],
   "source": [
    "# Create new df with necessary columns for line chart\n",
    "df_2 = small[['orders_day_of_week', 'prices']]"
   ]
  },
  {
   "cell_type": "markdown",
   "id": "b9d70b5a-0534-4103-8168-f9b4cf693678",
   "metadata": {},
   "source": [
    "### Line Charts"
   ]
  },
  {
   "cell_type": "code",
   "execution_count": 66,
   "id": "d343e3dd-17f7-4499-be4e-22e812669d8c",
   "metadata": {},
   "outputs": [
    {
     "data": {
      "image/png": "[encoded data removed]",
      "text/plain": [
       "<Figure size 640x480 with 1 Axes>"
      ]
     },
     "metadata": {},
     "output_type": "display_data"
    }
   ],
   "source": [
    "# Create line chart of prices by order day of week\n",
    "line = sns.lineplot(data = df_2, x = 'orders_day_of_week', y = 'prices')"
   ]
  },
  {
   "cell_type": "code",
   "execution_count": null,
   "id": "1e334d0e-3773-47e4-af90-a7e94cb2d22e",
   "metadata": {},
   "outputs": [],
   "source": []
  }
 ],
 "metadata": {
  "kernelspec": {
   "display_name": "Python [conda env:base] *",
   "language": "python",
   "name": "conda-base-py"
  },
  "language_info": {
   "codemirror_mode": {
    "name": "ipython",
    "version": 3
   },
   "file_extension": ".py",
   "mimetype": "text/x-python",
   "name": "python",
   "nbconvert_exporter": "python",
   "pygments_lexer": "ipython3",
   "version": "3.12.7"
  }
 },
 "nbformat": 4,
 "nbformat_minor": 5
}
